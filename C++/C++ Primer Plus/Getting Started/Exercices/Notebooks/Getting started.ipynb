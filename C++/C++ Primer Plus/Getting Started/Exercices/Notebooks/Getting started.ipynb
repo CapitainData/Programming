{
 "cells": [
  {
   "cell_type": "markdown",
   "id": "e8258882",
   "metadata": {},
   "source": [
    "# <center>Getting started</center>"
   ]
  },
  {
   "cell_type": "markdown",
   "id": "e37bcebc",
   "metadata": {},
   "source": [
    "![c++](https://2.bp.blogspot.com/-hfkN18WhUh0/Vzb736eWk9I/AAAAAAAABrk/n8auJXFOuMsEJvl6AbWYfA3HM2h1HHX7QCLcB/s1600/what%2Bis%2Bc%252B%252B.jpg)"
   ]
  },
  {
   "cell_type": "markdown",
   "id": "ec1c8810",
   "metadata": {},
   "source": [
    "# Simple C++ Program"
   ]
  },
  {
   "cell_type": "markdown",
   "id": "71c925e0",
   "metadata": {},
   "source": [
    "## Exercise 1"
   ]
  },
  {
   "attachments": {
    "image.png": {
     "image/png": "[encoded data removed]"
    }
   },
   "cell_type": "markdown",
   "id": "e0ab88bc",
   "metadata": {},
   "source": [
    "![image.png](attachment:image.png)"
   ]
  },
  {
   "cell_type": "code",
   "execution_count": 1,
   "id": "991bf8c7",
   "metadata": {},
   "outputs": [
    {
     "data": {
      "text/plain": [
       "0"
      ]
     },
     "execution_count": 1,
     "metadata": {},
     "output_type": "execute_result"
    }
   ],
   "source": [
    "int main()\n",
    "{\n",
    "    return 0;\n",
    "}\n",
    "main()"
   ]
  },
  {
   "cell_type": "markdown",
   "id": "c056fcc7",
   "metadata": {},
   "source": [
    "## Exercise 2"
   ]
  },
  {
   "attachments": {
    "image.png": {
     "image/png": "[encoded data removed]"
    }
   },
   "cell_type": "markdown",
   "id": "c624c1a8",
   "metadata": {},
   "source": [
    "![image.png](attachment:image.png)"
   ]
  },
  {
   "cell_type": "code",
   "execution_count": 2,
   "id": "5f4b1de2",
   "metadata": {},
   "outputs": [
    {
     "data": {
      "text/plain": [
       "-1"
      ]
     },
     "execution_count": 2,
     "metadata": {},
     "output_type": "execute_result"
    }
   ],
   "source": [
    "int main()\n",
    "{\n",
    "    return -1;\n",
    "}\n",
    "main()"
   ]
  },
  {
   "cell_type": "markdown",
   "id": "187acdc7",
   "metadata": {},
   "source": [
    "# First look at Input/output"
   ]
  },
  {
   "cell_type": "markdown",
   "id": "ea90b205",
   "metadata": {},
   "source": [
    "## IO Program Example 1"
   ]
  },
  {
   "cell_type": "code",
   "execution_count": 3,
   "id": "8bf9bc0a",
   "metadata": {},
   "outputs": [
    {
     "name": "stdout",
     "output_type": "stream",
     "text": [
      "Enter two numbers:\n",
      "2 9\n",
      "The sum of 2 and 9 is 11\n"
     ]
    },
    {
     "data": {
      "text/plain": [
       "0"
      ]
     },
     "execution_count": 3,
     "metadata": {},
     "output_type": "execute_result"
    }
   ],
   "source": [
    "#include <iostream>\n",
    "int main()\n",
    "{\n",
    "std::cout << \"Enter two numbers:\" << std::endl;\n",
    "int v1 = 0, v2 = 0;\n",
    "std::cin >> v1 >> v2;\n",
    "std::cout << \"The sum of \" << v1 << \" and \" << v2\n",
    "<< \" is \" << v1 + v2 << std::endl;\n",
    "return 0;\n",
    "}\n",
    "main()"
   ]
  },
  {
   "cell_type": "markdown",
   "id": "caeab39e",
   "metadata": {},
   "source": [
    "## Exercise 3"
   ]
  },
  {
   "attachments": {
    "image.png": {
     "image/png": "[encoded data removed]"
    }
   },
   "cell_type": "markdown",
   "id": "6fd44769",
   "metadata": {},
   "source": [
    "![image.png](attachment:image.png)"
   ]
  },
  {
   "cell_type": "code",
   "execution_count": 6,
   "id": "f4a643ca",
   "metadata": {},
   "outputs": [
    {
     "name": "stdout",
     "output_type": "stream",
     "text": [
      "Hello, World\n"
     ]
    },
    {
     "data": {
      "text/plain": [
       "0"
      ]
     },
     "execution_count": 6,
     "metadata": {},
     "output_type": "execute_result"
    }
   ],
   "source": [
    "#include <iostream>\n",
    "int main()\n",
    "{\n",
    "    std::cout << \"Hello, World\" << std::endl;\n",
    "    return 0;\n",
    "}\n",
    "main()"
   ]
  },
  {
   "cell_type": "markdown",
   "id": "22cf9bce",
   "metadata": {},
   "source": [
    "## Exercise 4"
   ]
  },
  {
   "attachments": {
    "image.png": {
     "image/png": "[encoded data removed]"
    }
   },
   "cell_type": "markdown",
   "id": "672e4a9d",
   "metadata": {},
   "source": [
    "![image.png](attachment:image.png)"
   ]
  },
  {
   "cell_type": "code",
   "execution_count": 7,
   "id": "47034dff",
   "metadata": {},
   "outputs": [
    {
     "name": "stdout",
     "output_type": "stream",
     "text": [
      "Enter two numbers:\n",
      "5 4\n",
      "The product of 5 and 4 is 20\n"
     ]
    },
    {
     "data": {
      "text/plain": [
       "0"
      ]
     },
     "execution_count": 7,
     "metadata": {},
     "output_type": "execute_result"
    }
   ],
   "source": [
    "#include <iostream>\n",
    "int main()\n",
    "{\n",
    "std::cout << \"Enter two numbers:\" << std::endl;\n",
    "int v1 = 0, v2 = 0;\n",
    "std::cin >> v1 >> v2;\n",
    "std::cout << \"The product of \" << v1 << \" and \" << v2\n",
    "<< \" is \" << v1 * v2 << std::endl;\n",
    "return 0;\n",
    "}\n",
    "main()"
   ]
  },
  {
   "cell_type": "markdown",
   "id": "a3d6f61a",
   "metadata": {},
   "source": [
    "## Exercise 5"
   ]
  },
  {
   "attachments": {
    "image.png": {
     "image/png": "[encoded data removed]"
    }
   },
   "cell_type": "markdown",
   "id": "4cfd0752",
   "metadata": {},
   "source": [
    "![image.png](attachment:image.png)"
   ]
  },
  {
   "cell_type": "code",
   "execution_count": 8,
   "id": "ebb451ac",
   "metadata": {},
   "outputs": [
    {
     "name": "stdout",
     "output_type": "stream",
     "text": [
      "Enter two numbers:\n",
      "3\n",
      "4\n",
      "The sum of 3 and 4 is 7\n"
     ]
    },
    {
     "data": {
      "text/plain": [
       "0"
      ]
     },
     "execution_count": 8,
     "metadata": {},
     "output_type": "execute_result"
    }
   ],
   "source": [
    "#include <iostream>\n",
    "int main()\n",
    "{\n",
    "    std::cout << \"Enter two numbers:\" << std::endl;\n",
    "    int v1 = 0, v2 = 0;\n",
    "    std::cin >> v1 >> v2;\n",
    "    std::cout << \"The sum of \"; \n",
    "    std::cout << v1;\n",
    "    std::cout << \" and \";\n",
    "    std::cout << v2;\n",
    "    std::cout << \" is \";\n",
    "    std::cout << v1 + v2;\n",
    "    std::cout << std::endl;\n",
    "    return 0;\n",
    "}\n",
    "main()"
   ]
  },
  {
   "cell_type": "markdown",
   "id": "dff7a20b",
   "metadata": {},
   "source": [
    "## Exercise 6"
   ]
  },
  {
   "attachments": {
    "image.png": {
     "image/png": "[encoded data removed]"
    }
   },
   "cell_type": "markdown",
   "id": "c85b7fe0",
   "metadata": {},
   "source": [
    "![image.png](attachment:image.png)"
   ]
  },
  {
   "cell_type": "markdown",
   "id": "dea966ff",
   "metadata": {},
   "source": [
    "It is not legal. The output operators are missing at the beginning of the second and third lines."
   ]
  },
  {
   "cell_type": "markdown",
   "id": "a4528626",
   "metadata": {},
   "source": [
    "**Error**"
   ]
  },
  {
   "cell_type": "code",
   "execution_count": 9,
   "id": "6a0aea78",
   "metadata": {},
   "outputs": [
    {
     "name": "stderr",
     "output_type": "stream",
     "text": [
      "\u001b[1minput_line_31:7:5: \u001b[0m\u001b[0;1;31merror: \u001b[0m\u001b[1mexpected expression\u001b[0m\n",
      "    << \" and \" << v2;\n",
      "\u001b[0;1;32m    ^\n",
      "\u001b[0m\u001b[1minput_line_31:8:5: \u001b[0m\u001b[0;1;31merror: \u001b[0m\u001b[1mexpected expression\u001b[0m\n",
      "    << \" is \" << v1 + v2 << std::endl;\n",
      "\u001b[0;1;32m    ^\n",
      "\u001b[0m"
     ]
    },
    {
     "ename": "Interpreter Error",
     "evalue": "",
     "output_type": "error",
     "traceback": [
      "Interpreter Error: "
     ]
    }
   ],
   "source": [
    "#include <iostream>\n",
    "int main()\n",
    "{\n",
    "    std::cout << \"Enter two numbers:\" << std::endl;\n",
    "    int v1 = 0, v2 = 0;\n",
    "    std::cin >> v1 >> v2;\n",
    "    std::cout << \"The sum of \" << v1;\n",
    "    << \" and \" << v2;\n",
    "    << \" is \" << v1 + v2 << std::endl;\n",
    "    return 0;\n",
    "}\n",
    "main()"
   ]
  },
  {
   "cell_type": "markdown",
   "id": "af5f99cc",
   "metadata": {},
   "source": [
    "**Solution 1**"
   ]
  },
  {
   "cell_type": "code",
   "execution_count": 10,
   "id": "6ea6aed9",
   "metadata": {},
   "outputs": [
    {
     "name": "stdout",
     "output_type": "stream",
     "text": [
      "Enter two numbers:\n",
      "3 2\n",
      "The sum of 3 and 2 is 5\n"
     ]
    },
    {
     "data": {
      "text/plain": [
       "0"
      ]
     },
     "execution_count": 10,
     "metadata": {},
     "output_type": "execute_result"
    }
   ],
   "source": [
    "#include <iostream>\n",
    "int main()\n",
    "{\n",
    "    std::cout << \"Enter two numbers:\" << std::endl;\n",
    "    int v1 = 0, v2 = 0;\n",
    "    std::cin >> v1 >> v2;\n",
    "    std::cout << \"The sum of \" << v1;\n",
    "    std::cout << \" and \" << v2;\n",
    "    std::cout << \" is \" << v1 + v2 << std::endl;\n",
    "    return 0;\n",
    "}\n",
    "main()"
   ]
  },
  {
   "cell_type": "markdown",
   "id": "b1d3fe00",
   "metadata": {},
   "source": [
    "**Solution 2**"
   ]
  },
  {
   "cell_type": "code",
   "execution_count": 11,
   "id": "ee04c4ca",
   "metadata": {},
   "outputs": [
    {
     "name": "stdout",
     "output_type": "stream",
     "text": [
      "Enter two numbers:\n",
      "2 4\n",
      "The sum of 2 and 4 is 6\n"
     ]
    },
    {
     "data": {
      "text/plain": [
       "0"
      ]
     },
     "execution_count": 11,
     "metadata": {},
     "output_type": "execute_result"
    }
   ],
   "source": [
    "#include <iostream>\n",
    "int main()\n",
    "{\n",
    "    std::cout << \"Enter two numbers:\" << std::endl;\n",
    "    int v1 = 0, v2 = 0;\n",
    "    std::cin >> v1 >> v2;\n",
    "    std::cout << \"The sum of \" << v1\n",
    "    << \" and \" << v2\n",
    "    << \" is \" << v1 + v2 << std::endl;\n",
    "    return 0;\n",
    "}\n",
    "main()"
   ]
  },
  {
   "cell_type": "markdown",
   "id": "03ba8dc8",
   "metadata": {},
   "source": [
    "# A Word about Comments"
   ]
  },
  {
   "cell_type": "markdown",
   "id": "ee8fe563",
   "metadata": {},
   "source": [
    "## Commented Program"
   ]
  },
  {
   "cell_type": "code",
   "execution_count": 12,
   "id": "bdf3b080",
   "metadata": {},
   "outputs": [
    {
     "name": "stdout",
     "output_type": "stream",
     "text": [
      "Enter two numbers:\n",
      "2 9\n",
      "The sum of 2 and 9 is 11\n"
     ]
    },
    {
     "data": {
      "text/plain": [
       "0"
      ]
     },
     "execution_count": 12,
     "metadata": {},
     "output_type": "execute_result"
    }
   ],
   "source": [
    "#include <iostream>\n",
    "/*\n",
    " * Simple main function:\n",
    " * Read two numbers and write their sum\n",
    " */\n",
    "int main()\n",
    "{\n",
    "    // prompt user to enter two numbers\n",
    "    std::cout << \"Enter two numbers:\" << std::endl;\n",
    "    int v1 = 0, v2 = 0;\n",
    "    // variables to hold the input we read\n",
    "    std::cin >> v1 >> v2; // read input\n",
    "    std::cout << \"The sum of \" << v1 << \" and \" << v2\n",
    "    << \" is \" << v1 + v2 << std::endl;\n",
    "    return 0;\n",
    "}\n",
    "main()"
   ]
  },
  {
   "cell_type": "markdown",
   "id": "cc7febcc",
   "metadata": {},
   "source": [
    "## Comment Pairs Do Not Nest"
   ]
  },
  {
   "cell_type": "code",
   "execution_count": 13,
   "id": "6921f84e",
   "metadata": {},
   "outputs": [
    {
     "name": "stderr",
     "output_type": "stream",
     "text": [
      "\u001b[1minput_line_41:3:18: \u001b[0m\u001b[0;1;35mwarning: \u001b[0m\u001b[1m'/*' within block comment [-Wcomment]\u001b[0m\n",
      " * comment pairs /* */ cannot nest.\n",
      "\u001b[0;1;32m                 ^\n",
      "\u001b[0m\u001b[1minput_line_41:3:24: \u001b[0m\u001b[0;1;31merror: \u001b[0m\u001b[1munknown type name 'cannot'\u001b[0m\n",
      " * comment pairs /* */ cannot nest.\n",
      "\u001b[0;1;32m                       ^\n",
      "\u001b[0m\u001b[1minput_line_41:3:35: \u001b[0m\u001b[0;1;31merror: \u001b[0m\u001b[1mexpected ';' at end of declaration\u001b[0m\n",
      " * comment pairs /* */ cannot nest.\n",
      "\u001b[0;1;32m                                  ^\n",
      "\u001b[0m\u001b[0;32m                                  ;\n",
      "\u001b[0m\u001b[1minput_line_41:4:4: \u001b[0m\u001b[0;1;31merror: \u001b[0m\u001b[1mnon-ASCII characters are not allowed outside of literals and\n",
      "      identifiers\u001b[0m\n",
      " * ‘‘cannot nest’’ is considered source code,\n",
      "\u001b[0;1;32m   ^\n",
      "\u001b[0m\u001b[1minput_line_41:4:7: \u001b[0m\u001b[0;1;31merror: \u001b[0m\u001b[1mnon-ASCII characters are not allowed outside of literals and\n",
      "      identifiers\u001b[0m\n",
      " * ‘‘cannot nest’’ is considered source code,\n",
      "\u001b[0;1;32m    ^\n",
      "\u001b[0m\u001b[1minput_line_41:4:21: \u001b[0m\u001b[0;1;31merror: \u001b[0m\u001b[1mnon-ASCII characters are not allowed outside of literals and\n",
      "      identifiers\u001b[0m\n",
      " * ‘‘cannot nest’’ is considered source code,\n",
      "\u001b[0;1;32m                ^\n",
      "\u001b[0m\u001b[1minput_line_41:4:24: \u001b[0m\u001b[0;1;31merror: \u001b[0m\u001b[1mnon-ASCII characters are not allowed outside of literals and\n",
      "      identifiers\u001b[0m\n",
      " * ‘‘cannot nest’’ is considered source code,\n",
      "\u001b[0;1;32m                 ^\n",
      "\u001b[0m"
     ]
    },
    {
     "ename": "Interpreter Error",
     "evalue": "",
     "output_type": "error",
     "traceback": [
      "Interpreter Error: "
     ]
    }
   ],
   "source": [
    "/*\n",
    " * comment pairs /* */ cannot nest.\n",
    " * ‘‘cannot nest’’ is considered source code,\n",
    " * as is the rest of the program\n",
    " */\n",
    "int main()\n",
    "{\n",
    "    return 0;\n",
    "}\n",
    "main()"
   ]
  },
  {
   "cell_type": "markdown",
   "id": "3a49f0d0",
   "metadata": {},
   "source": [
    "## Possible for nested comments while debugging"
   ]
  },
  {
   "cell_type": "code",
   "execution_count": 14,
   "id": "04adbd8f",
   "metadata": {},
   "outputs": [
    {
     "data": {
      "text/plain": [
       "0"
      ]
     },
     "execution_count": 14,
     "metadata": {},
     "output_type": "execute_result"
    }
   ],
   "source": [
    "// /*\n",
    "//  * comment pairs /* */ cannot nest.\n",
    "//  * ‘‘cannot nest’’ is considered source code,\n",
    "//  * as is the rest of the program\n",
    "//  */\n",
    "int main()\n",
    "{\n",
    "    return 0;\n",
    "}\n",
    "main()"
   ]
  },
  {
   "cell_type": "markdown",
   "id": "216576d2",
   "metadata": {},
   "source": [
    "## Exercise 7"
   ]
  },
  {
   "attachments": {
    "image.png": {
     "image/png": "[encoded data removed]"
    }
   },
   "cell_type": "markdown",
   "id": "e365e0a5",
   "metadata": {},
   "source": [
    "![image.png](attachment:image.png)"
   ]
  },
  {
   "cell_type": "code",
   "execution_count": 15,
   "id": "e71ea40c",
   "metadata": {},
   "outputs": [
    {
     "name": "stderr",
     "output_type": "stream",
     "text": [
      "\u001b[1minput_line_44:3:18: \u001b[0m\u001b[0;1;35mwarning: \u001b[0m\u001b[1m'/*' within block comment [-Wcomment]\u001b[0m\n",
      " * comment pairs /* */ cannot nest.\n",
      "\u001b[0;1;32m                 ^\n",
      "\u001b[0m\u001b[1minput_line_44:3:24: \u001b[0m\u001b[0;1;31merror: \u001b[0m\u001b[1munknown type name 'cannot'\u001b[0m\n",
      " * comment pairs /* */ cannot nest.\n",
      "\u001b[0;1;32m                       ^\n",
      "\u001b[0m\u001b[1minput_line_44:3:35: \u001b[0m\u001b[0;1;31merror: \u001b[0m\u001b[1mexpected ';' at end of declaration\u001b[0m\n",
      " * comment pairs /* */ cannot nest.\n",
      "\u001b[0;1;32m                                  ^\n",
      "\u001b[0m\u001b[0;32m                                  ;\n",
      "\u001b[0m\u001b[1minput_line_44:4:4: \u001b[0m\u001b[0;1;31merror: \u001b[0m\u001b[1mnon-ASCII characters are not allowed outside of literals and\n",
      "      identifiers\u001b[0m\n",
      " * ‘‘cannot nest’’ is considered source code,\n",
      "\u001b[0;1;32m   ^\n",
      "\u001b[0m\u001b[1minput_line_44:4:7: \u001b[0m\u001b[0;1;31merror: \u001b[0m\u001b[1mnon-ASCII characters are not allowed outside of literals and\n",
      "      identifiers\u001b[0m\n",
      " * ‘‘cannot nest’’ is considered source code,\n",
      "\u001b[0;1;32m    ^\n",
      "\u001b[0m\u001b[1minput_line_44:4:21: \u001b[0m\u001b[0;1;31merror: \u001b[0m\u001b[1mnon-ASCII characters are not allowed outside of literals and\n",
      "      identifiers\u001b[0m\n",
      " * ‘‘cannot nest’’ is considered source code,\n",
      "\u001b[0;1;32m                ^\n",
      "\u001b[0m\u001b[1minput_line_44:4:24: \u001b[0m\u001b[0;1;31merror: \u001b[0m\u001b[1mnon-ASCII characters are not allowed outside of literals and\n",
      "      identifiers\u001b[0m\n",
      " * ‘‘cannot nest’’ is considered source code,\n",
      "\u001b[0;1;32m                 ^\n",
      "\u001b[0m"
     ]
    },
    {
     "ename": "Interpreter Error",
     "evalue": "",
     "output_type": "error",
     "traceback": [
      "Interpreter Error: "
     ]
    }
   ],
   "source": [
    "/*\n",
    " * comment pairs /* */ cannot nest.\n",
    " * ‘‘cannot nest’’ is considered source code,\n",
    " * as is the rest of the program\n",
    " */\n",
    "int main()\n",
    "{\n",
    "    return 0;\n",
    "}\n",
    "main()"
   ]
  },
  {
   "cell_type": "markdown",
   "id": "91f7e978",
   "metadata": {},
   "source": [
    "## Exercise 8"
   ]
  },
  {
   "attachments": {
    "image.png": {
     "image/png": "[encoded data removed]"
    }
   },
   "cell_type": "markdown",
   "id": "3ecfea32",
   "metadata": {},
   "source": [
    "![image.png](attachment:image.png)"
   ]
  },
  {
   "cell_type": "markdown",
   "id": "c07c50f8",
   "metadata": {},
   "source": [
    "The first and second only are legals"
   ]
  },
  {
   "cell_type": "markdown",
   "id": "987931cd",
   "metadata": {},
   "source": [
    "**Test**"
   ]
  },
  {
   "cell_type": "code",
   "execution_count": 17,
   "id": "d1091e0b",
   "metadata": {},
   "outputs": [
    {
     "name": "stdout",
     "output_type": "stream",
     "text": [
      "/*"
     ]
    },
    {
     "data": {
      "text/plain": [
       "0"
      ]
     },
     "execution_count": 17,
     "metadata": {},
     "output_type": "execute_result"
    }
   ],
   "source": [
    "#include <iostream>\n",
    "int main()\n",
    "{\n",
    "    std::cout << \"/*\";\n",
    "    return 0;\n",
    "}\n",
    "main()"
   ]
  },
  {
   "cell_type": "code",
   "execution_count": 18,
   "id": "4e5febcd",
   "metadata": {},
   "outputs": [
    {
     "name": "stdout",
     "output_type": "stream",
     "text": [
      "*/"
     ]
    },
    {
     "data": {
      "text/plain": [
       "0"
      ]
     },
     "execution_count": 18,
     "metadata": {},
     "output_type": "execute_result"
    }
   ],
   "source": [
    "#include <iostream>\n",
    "int main()\n",
    "{\n",
    "    std::cout << \"*/\";\n",
    "    return 0;\n",
    "}\n",
    "main()"
   ]
  },
  {
   "cell_type": "code",
   "execution_count": 19,
   "id": "bf8045bf",
   "metadata": {},
   "outputs": [
    {
     "name": "stderr",
     "output_type": "stream",
     "text": [
      "\u001b[1minput_line_55:3:24: \u001b[0m\u001b[0;1;35mwarning: \u001b[0m\u001b[1mmissing terminating '\"' character [-Winvalid-pp-token]\u001b[0m\n",
      "    std::cout << /* \"*/\" */;\n",
      "\u001b[0;1;32m                       ^\n",
      "\u001b[0m\u001b[1minput_line_55:3:24: \u001b[0m\u001b[0;1;31merror: \u001b[0m\u001b[1mexpected expression\u001b[0m\n"
     ]
    },
    {
     "ename": "Interpreter Error",
     "evalue": "",
     "output_type": "error",
     "traceback": [
      "Interpreter Error: "
     ]
    }
   ],
   "source": [
    "#include <iostream>\n",
    "int main()\n",
    "{\n",
    "    std::cout << /* \"*/\" */;\n",
    "    return 0;\n",
    "}\n",
    "main()"
   ]
  },
  {
   "cell_type": "code",
   "execution_count": 20,
   "id": "a49f2364",
   "metadata": {},
   "outputs": [
    {
     "name": "stdout",
     "output_type": "stream",
     "text": [
      " /* "
     ]
    },
    {
     "data": {
      "text/plain": [
       "0"
      ]
     },
     "execution_count": 20,
     "metadata": {},
     "output_type": "execute_result"
    }
   ],
   "source": [
    "#include <iostream>\n",
    "int main()\n",
    "{\n",
    "    std::cout << /* \"*/\" /* \"/*\" */;\n",
    "    return 0;\n",
    "}\n",
    "main()"
   ]
  },
  {
   "cell_type": "markdown",
   "id": "bad24ce1",
   "metadata": {},
   "source": [
    "The third one appears to be also legal. "
   ]
  },
  {
   "cell_type": "markdown",
   "id": "363d4cc2",
   "metadata": {},
   "source": [
    "**Correction of errors**"
   ]
  },
  {
   "cell_type": "code",
   "execution_count": 31,
   "id": "a90984ef",
   "metadata": {},
   "outputs": [
    {
     "name": "stdout",
     "output_type": "stream",
     "text": [
      " */"
     ]
    },
    {
     "data": {
      "text/plain": [
       "0"
      ]
     },
     "execution_count": 31,
     "metadata": {},
     "output_type": "execute_result"
    }
   ],
   "source": [
    "#include <iostream>\n",
    "int main()\n",
    "{\n",
    "    std::cout << /* \"*/\" */\";\n",
    "    return 0;\n",
    "}\n",
    "main()"
   ]
  },
  {
   "cell_type": "markdown",
   "id": "190e5178",
   "metadata": {},
   "source": [
    "# Flow of Control"
   ]
  },
  {
   "cell_type": "code",
   "execution_count": null,
   "id": "41a2505a",
   "metadata": {},
   "outputs": [],
   "source": []
  }
 ],
 "metadata": {
  "kernelspec": {
   "display_name": "C++11",
   "language": "C++11",
   "name": "xcpp11"
  },
  "language_info": {
   "codemirror_mode": "text/x-c++src",
   "file_extension": ".cpp",
   "mimetype": "text/x-c++src",
   "name": "c++",
   "version": "11"
  }
 },
 "nbformat": 4,
 "nbformat_minor": 5
}
