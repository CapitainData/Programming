{
 "cells": [
  {
   "cell_type": "markdown",
   "id": "e8258882",
   "metadata": {},
   "source": [
    "# <center>Getting started</center>"
   ]
  },
  {
   "cell_type": "markdown",
   "id": "e37bcebc",
   "metadata": {},
   "source": [
    "![c++](https://2.bp.blogspot.com/-hfkN18WhUh0/Vzb736eWk9I/AAAAAAAABrk/n8auJXFOuMsEJvl6AbWYfA3HM2h1HHX7QCLcB/s1600/what%2Bis%2Bc%252B%252B.jpg)"
   ]
  },
  {
   "cell_type": "markdown",
   "id": "ec1c8810",
   "metadata": {},
   "source": [
    "# Simple C++ Program"
   ]
  },
  {
   "cell_type": "markdown",
   "id": "71c925e0",
   "metadata": {},
   "source": [
    "## Exercise 1"
   ]
  },
  {
   "attachments": {
    "image.png": {
     "image/png": "[encoded data removed]"
    }
   },
   "cell_type": "markdown",
   "id": "e0ab88bc",
   "metadata": {},
   "source": [
    "![image.png](attachment:image.png)"
   ]
  },
  {
   "cell_type": "code",
   "execution_count": 1,
   "id": "991bf8c7",
   "metadata": {},
   "outputs": [
    {
     "data": {
      "text/plain": [
       "0"
      ]
     },
     "execution_count": 1,
     "metadata": {},
     "output_type": "execute_result"
    }
   ],
   "source": [
    "int main()\n",
    "{\n",
    "    return 0;\n",
    "}\n",
    "main()"
   ]
  },
  {
   "cell_type": "markdown",
   "id": "c056fcc7",
   "metadata": {},
   "source": [
    "## Exercise 2"
   ]
  },
  {
   "attachments": {
    "image.png": {
     "image/png": "[encoded data removed]"
    }
   },
   "cell_type": "markdown",
   "id": "c624c1a8",
   "metadata": {},
   "source": [
    "![image.png](attachment:image.png)"
   ]
  },
  {
   "cell_type": "code",
   "execution_count": 2,
   "id": "5f4b1de2",
   "metadata": {},
   "outputs": [
    {
     "data": {
      "text/plain": [
       "-1"
      ]
     },
     "execution_count": 2,
     "metadata": {},
     "output_type": "execute_result"
    }
   ],
   "source": [
    "int main()\n",
    "{\n",
    "    return -1;\n",
    "}\n",
    "main()"
   ]
  },
  {
   "cell_type": "markdown",
   "id": "187acdc7",
   "metadata": {},
   "source": [
    "# First look at Input/output"
   ]
  },
  {
   "cell_type": "markdown",
   "id": "ea90b205",
   "metadata": {},
   "source": [
    "## IO Program Example 1"
   ]
  },
  {
   "cell_type": "code",
   "execution_count": 3,
   "id": "8bf9bc0a",
   "metadata": {},
   "outputs": [
    {
     "name": "stdout",
     "output_type": "stream",
     "text": [
      "Enter two numbers:\n",
      "2 1\n",
      "The sum of 2 and 1 is 3\n"
     ]
    },
    {
     "data": {
      "text/plain": [
       "0"
      ]
     },
     "execution_count": 3,
     "metadata": {},
     "output_type": "execute_result"
    }
   ],
   "source": [
    "#include <iostream>\n",
    "int main()\n",
    "{\n",
    "std::cout << \"Enter two numbers:\" << std::endl;\n",
    "int v1 = 0, v2 = 0;\n",
    "std::cin >> v1 >> v2;\n",
    "std::cout << \"The sum of \" << v1 << \" and \" << v2\n",
    "<< \" is \" << v1 + v2 << std::endl;\n",
    "return 0;\n",
    "}\n",
    "main()"
   ]
  },
  {
   "cell_type": "markdown",
   "id": "caeab39e",
   "metadata": {},
   "source": [
    "## Exercise 3"
   ]
  },
  {
   "attachments": {
    "image.png": {
     "image/png": "[encoded data removed]"
    }
   },
   "cell_type": "markdown",
   "id": "6fd44769",
   "metadata": {},
   "source": [
    "![image.png](attachment:image.png)"
   ]
  },
  {
   "cell_type": "code",
   "execution_count": 4,
   "id": "f4a643ca",
   "metadata": {},
   "outputs": [
    {
     "name": "stdout",
     "output_type": "stream",
     "text": [
      "Hello, World\n"
     ]
    },
    {
     "data": {
      "text/plain": [
       "0"
      ]
     },
     "execution_count": 4,
     "metadata": {},
     "output_type": "execute_result"
    }
   ],
   "source": [
    "#include <iostream>\n",
    "int main()\n",
    "{\n",
    "    std::cout << \"Hello, World\" << std::endl;\n",
    "    return 0;\n",
    "}\n",
    "main()"
   ]
  },
  {
   "cell_type": "markdown",
   "id": "22cf9bce",
   "metadata": {},
   "source": [
    "## Exercise 4"
   ]
  },
  {
   "attachments": {
    "image.png": {
     "image/png": "[encoded data removed]"
    }
   },
   "cell_type": "markdown",
   "id": "672e4a9d",
   "metadata": {},
   "source": [
    "![image.png](attachment:image.png)"
   ]
  },
  {
   "cell_type": "code",
   "execution_count": 5,
   "id": "47034dff",
   "metadata": {},
   "outputs": [
    {
     "name": "stdout",
     "output_type": "stream",
     "text": [
      "Enter two numbers:\n",
      "2 1\n",
      "The product of 2 and 1 is 2\n"
     ]
    },
    {
     "data": {
      "text/plain": [
       "0"
      ]
     },
     "execution_count": 5,
     "metadata": {},
     "output_type": "execute_result"
    }
   ],
   "source": [
    "#include <iostream>\n",
    "int main()\n",
    "{\n",
    "std::cout << \"Enter two numbers:\" << std::endl;\n",
    "int v1 = 0, v2 = 0;\n",
    "std::cin >> v1 >> v2;\n",
    "std::cout << \"The product of \" << v1 << \" and \" << v2\n",
    "<< \" is \" << v1 * v2 << std::endl;\n",
    "return 0;\n",
    "}\n",
    "main()"
   ]
  },
  {
   "cell_type": "markdown",
   "id": "a3d6f61a",
   "metadata": {},
   "source": [
    "## Exercise 5"
   ]
  },
  {
   "attachments": {
    "image.png": {
     "image/png": "[encoded data removed]"
    }
   },
   "cell_type": "markdown",
   "id": "4cfd0752",
   "metadata": {},
   "source": [
    "![image.png](attachment:image.png)"
   ]
  },
  {
   "cell_type": "code",
   "execution_count": 6,
   "id": "ebb451ac",
   "metadata": {},
   "outputs": [
    {
     "name": "stdout",
     "output_type": "stream",
     "text": [
      "Enter two numbers:\n",
      "2 4\n",
      "The sum of 2 and 4 is 6\n"
     ]
    },
    {
     "data": {
      "text/plain": [
       "0"
      ]
     },
     "execution_count": 6,
     "metadata": {},
     "output_type": "execute_result"
    }
   ],
   "source": [
    "#include <iostream>\n",
    "int main()\n",
    "{\n",
    "    std::cout << \"Enter two numbers:\" << std::endl;\n",
    "    int v1 = 0, v2 = 0;\n",
    "    std::cin >> v1 >> v2;\n",
    "    std::cout << \"The sum of \"; \n",
    "    std::cout << v1;\n",
    "    std::cout << \" and \";\n",
    "    std::cout << v2;\n",
    "    std::cout << \" is \";\n",
    "    std::cout << v1 + v2;\n",
    "    std::cout << std::endl;\n",
    "    return 0;\n",
    "}\n",
    "main()"
   ]
  },
  {
   "cell_type": "markdown",
   "id": "dff7a20b",
   "metadata": {},
   "source": [
    "## Exercise 6"
   ]
  },
  {
   "attachments": {
    "image.png": {
     "image/png": "[encoded data removed]"
    }
   },
   "cell_type": "markdown",
   "id": "c85b7fe0",
   "metadata": {},
   "source": [
    "![image.png](attachment:image.png)"
   ]
  },
  {
   "cell_type": "markdown",
   "id": "dea966ff",
   "metadata": {},
   "source": [
    "It is not legal. The output operators are missing at the beginning of the second and third lines."
   ]
  },
  {
   "cell_type": "markdown",
   "id": "a4528626",
   "metadata": {},
   "source": [
    "**Error**"
   ]
  },
  {
   "cell_type": "code",
   "execution_count": 7,
   "id": "6a0aea78",
   "metadata": {},
   "outputs": [
    {
     "name": "stderr",
     "output_type": "stream",
     "text": [
      "\u001b[1minput_line_26:7:5: \u001b[0m\u001b[0;1;31merror: \u001b[0m\u001b[1mexpected expression\u001b[0m\n",
      "    << \" and \" << v2;\n",
      "\u001b[0;1;32m    ^\n",
      "\u001b[0m\u001b[1minput_line_26:8:5: \u001b[0m\u001b[0;1;31merror: \u001b[0m\u001b[1mexpected expression\u001b[0m\n",
      "    << \" is \" << v1 + v2 << std::endl;\n",
      "\u001b[0;1;32m    ^\n",
      "\u001b[0m"
     ]
    },
    {
     "ename": "Interpreter Error",
     "evalue": "",
     "output_type": "error",
     "traceback": [
      "Interpreter Error: "
     ]
    }
   ],
   "source": [
    "#include <iostream>\n",
    "int main()\n",
    "{\n",
    "    std::cout << \"Enter two numbers:\" << std::endl;\n",
    "    int v1 = 0, v2 = 0;\n",
    "    std::cin >> v1 >> v2;\n",
    "    std::cout << \"The sum of \" << v1;\n",
    "    << \" and \" << v2;\n",
    "    << \" is \" << v1 + v2 << std::endl;\n",
    "    return 0;\n",
    "}\n",
    "main()"
   ]
  },
  {
   "cell_type": "markdown",
   "id": "af5f99cc",
   "metadata": {},
   "source": [
    "**Solution 1**"
   ]
  },
  {
   "cell_type": "code",
   "execution_count": 8,
   "id": "6ea6aed9",
   "metadata": {},
   "outputs": [
    {
     "name": "stdout",
     "output_type": "stream",
     "text": [
      "Enter two numbers:\n",
      "2 5\n",
      "The sum of 2 and 5 is 7\n"
     ]
    },
    {
     "data": {
      "text/plain": [
       "0"
      ]
     },
     "execution_count": 8,
     "metadata": {},
     "output_type": "execute_result"
    }
   ],
   "source": [
    "#include <iostream>\n",
    "int main()\n",
    "{\n",
    "    std::cout << \"Enter two numbers:\" << std::endl;\n",
    "    int v1 = 0, v2 = 0;\n",
    "    std::cin >> v1 >> v2;\n",
    "    std::cout << \"The sum of \" << v1;\n",
    "    std::cout << \" and \" << v2;\n",
    "    std::cout << \" is \" << v1 + v2 << std::endl;\n",
    "    return 0;\n",
    "}\n",
    "main()"
   ]
  },
  {
   "cell_type": "markdown",
   "id": "b1d3fe00",
   "metadata": {},
   "source": [
    "**Solution 2**"
   ]
  },
  {
   "cell_type": "code",
   "execution_count": 9,
   "id": "ee04c4ca",
   "metadata": {},
   "outputs": [
    {
     "name": "stdout",
     "output_type": "stream",
     "text": [
      "Enter two numbers:\n",
      "1 9\n",
      "The sum of 1 and 9 is 10\n"
     ]
    },
    {
     "data": {
      "text/plain": [
       "0"
      ]
     },
     "execution_count": 9,
     "metadata": {},
     "output_type": "execute_result"
    }
   ],
   "source": [
    "#include <iostream>\n",
    "int main()\n",
    "{\n",
    "    std::cout << \"Enter two numbers:\" << std::endl;\n",
    "    int v1 = 0, v2 = 0;\n",
    "    std::cin >> v1 >> v2;\n",
    "    std::cout << \"The sum of \" << v1\n",
    "    << \" and \" << v2\n",
    "    << \" is \" << v1 + v2 << std::endl;\n",
    "    return 0;\n",
    "}\n",
    "main()"
   ]
  },
  {
   "cell_type": "markdown",
   "id": "03ba8dc8",
   "metadata": {},
   "source": [
    "# A Word about Comments"
   ]
  },
  {
   "cell_type": "markdown",
   "id": "ee8fe563",
   "metadata": {},
   "source": [
    "## Commented Program"
   ]
  },
  {
   "cell_type": "code",
   "execution_count": 10,
   "id": "bdf3b080",
   "metadata": {},
   "outputs": [
    {
     "name": "stdout",
     "output_type": "stream",
     "text": [
      "Enter two numbers:\n",
      "2 1\n",
      "The sum of 2 and 1 is 3\n"
     ]
    },
    {
     "data": {
      "text/plain": [
       "0"
      ]
     },
     "execution_count": 10,
     "metadata": {},
     "output_type": "execute_result"
    }
   ],
   "source": [
    "#include <iostream>\n",
    "/*\n",
    " * Simple main function:\n",
    " * Read two numbers and write their sum\n",
    " */\n",
    "int main()\n",
    "{\n",
    "    // prompt user to enter two numbers\n",
    "    std::cout << \"Enter two numbers:\" << std::endl;\n",
    "    int v1 = 0, v2 = 0;\n",
    "    // variables to hold the input we read\n",
    "    std::cin >> v1 >> v2; // read input\n",
    "    std::cout << \"The sum of \" << v1 << \" and \" << v2\n",
    "    << \" is \" << v1 + v2 << std::endl;\n",
    "    return 0;\n",
    "}\n",
    "main()"
   ]
  },
  {
   "cell_type": "markdown",
   "id": "cc7febcc",
   "metadata": {},
   "source": [
    "## Comment Pairs Do Not Nest"
   ]
  },
  {
   "cell_type": "code",
   "execution_count": 11,
   "id": "6921f84e",
   "metadata": {},
   "outputs": [
    {
     "name": "stderr",
     "output_type": "stream",
     "text": [
      "\u001b[1minput_line_36:3:18: \u001b[0m\u001b[0;1;35mwarning: \u001b[0m\u001b[1m'/*' within block comment [-Wcomment]\u001b[0m\n",
      " * comment pairs /* */ cannot nest.\n",
      "\u001b[0;1;32m                 ^\n",
      "\u001b[0m\u001b[1minput_line_36:3:24: \u001b[0m\u001b[0;1;31merror: \u001b[0m\u001b[1munknown type name 'cannot'\u001b[0m\n",
      " * comment pairs /* */ cannot nest.\n",
      "\u001b[0;1;32m                       ^\n",
      "\u001b[0m\u001b[1minput_line_36:3:35: \u001b[0m\u001b[0;1;31merror: \u001b[0m\u001b[1mexpected ';' at end of declaration\u001b[0m\n",
      " * comment pairs /* */ cannot nest.\n",
      "\u001b[0;1;32m                                  ^\n",
      "\u001b[0m\u001b[0;32m                                  ;\n",
      "\u001b[0m\u001b[1minput_line_36:4:4: \u001b[0m\u001b[0;1;31merror: \u001b[0m\u001b[1mnon-ASCII characters are not allowed outside of literals and\n",
      "      identifiers\u001b[0m\n",
      " * ‘‘cannot nest’’ is considered source code,\n",
      "\u001b[0;1;32m   ^\n",
      "\u001b[0m\u001b[1minput_line_36:4:7: \u001b[0m\u001b[0;1;31merror: \u001b[0m\u001b[1mnon-ASCII characters are not allowed outside of literals and\n",
      "      identifiers\u001b[0m\n",
      " * ‘‘cannot nest’’ is considered source code,\n",
      "\u001b[0;1;32m    ^\n",
      "\u001b[0m\u001b[1minput_line_36:4:21: \u001b[0m\u001b[0;1;31merror: \u001b[0m\u001b[1mnon-ASCII characters are not allowed outside of literals and\n",
      "      identifiers\u001b[0m\n",
      " * ‘‘cannot nest’’ is considered source code,\n",
      "\u001b[0;1;32m                ^\n",
      "\u001b[0m\u001b[1minput_line_36:4:24: \u001b[0m\u001b[0;1;31merror: \u001b[0m\u001b[1mnon-ASCII characters are not allowed outside of literals and\n",
      "      identifiers\u001b[0m\n",
      " * ‘‘cannot nest’’ is considered source code,\n",
      "\u001b[0;1;32m                 ^\n",
      "\u001b[0m"
     ]
    },
    {
     "ename": "Interpreter Error",
     "evalue": "",
     "output_type": "error",
     "traceback": [
      "Interpreter Error: "
     ]
    }
   ],
   "source": [
    "/*\n",
    " * comment pairs /* */ cannot nest.\n",
    " * ‘‘cannot nest’’ is considered source code,\n",
    " * as is the rest of the program\n",
    " */\n",
    "int main()\n",
    "{\n",
    "    return 0;\n",
    "}\n",
    "main()"
   ]
  },
  {
   "cell_type": "markdown",
   "id": "3a49f0d0",
   "metadata": {},
   "source": [
    "## Possible for nested comments while debugging"
   ]
  },
  {
   "cell_type": "code",
   "execution_count": 12,
   "id": "04adbd8f",
   "metadata": {},
   "outputs": [
    {
     "data": {
      "text/plain": [
       "0"
      ]
     },
     "execution_count": 12,
     "metadata": {},
     "output_type": "execute_result"
    }
   ],
   "source": [
    "// /*\n",
    "//  * comment pairs /* */ cannot nest.\n",
    "//  * ‘‘cannot nest’’ is considered source code,\n",
    "//  * as is the rest of the program\n",
    "//  */\n",
    "int main()\n",
    "{\n",
    "    return 0;\n",
    "}\n",
    "main()"
   ]
  },
  {
   "cell_type": "markdown",
   "id": "216576d2",
   "metadata": {},
   "source": [
    "## Exercise 7"
   ]
  },
  {
   "attachments": {
    "image.png": {
     "image/png": "[encoded data removed]"
    }
   },
   "cell_type": "markdown",
   "id": "e365e0a5",
   "metadata": {},
   "source": [
    "![image.png](attachment:image.png)"
   ]
  },
  {
   "cell_type": "code",
   "execution_count": 13,
   "id": "e71ea40c",
   "metadata": {},
   "outputs": [
    {
     "name": "stderr",
     "output_type": "stream",
     "text": [
      "\u001b[1minput_line_39:3:18: \u001b[0m\u001b[0;1;35mwarning: \u001b[0m\u001b[1m'/*' within block comment [-Wcomment]\u001b[0m\n",
      " * comment pairs /* */ cannot nest.\n",
      "\u001b[0;1;32m                 ^\n",
      "\u001b[0m\u001b[1minput_line_39:3:24: \u001b[0m\u001b[0;1;31merror: \u001b[0m\u001b[1munknown type name 'cannot'\u001b[0m\n",
      " * comment pairs /* */ cannot nest.\n",
      "\u001b[0;1;32m                       ^\n",
      "\u001b[0m\u001b[1minput_line_39:3:35: \u001b[0m\u001b[0;1;31merror: \u001b[0m\u001b[1mexpected ';' at end of declaration\u001b[0m\n",
      " * comment pairs /* */ cannot nest.\n",
      "\u001b[0;1;32m                                  ^\n",
      "\u001b[0m\u001b[0;32m                                  ;\n",
      "\u001b[0m\u001b[1minput_line_39:4:4: \u001b[0m\u001b[0;1;31merror: \u001b[0m\u001b[1mnon-ASCII characters are not allowed outside of literals and\n",
      "      identifiers\u001b[0m\n",
      " * ‘‘cannot nest’’ is considered source code,\n",
      "\u001b[0;1;32m   ^\n",
      "\u001b[0m\u001b[1minput_line_39:4:7: \u001b[0m\u001b[0;1;31merror: \u001b[0m\u001b[1mnon-ASCII characters are not allowed outside of literals and\n",
      "      identifiers\u001b[0m\n",
      " * ‘‘cannot nest’’ is considered source code,\n",
      "\u001b[0;1;32m    ^\n",
      "\u001b[0m\u001b[1minput_line_39:4:21: \u001b[0m\u001b[0;1;31merror: \u001b[0m\u001b[1mnon-ASCII characters are not allowed outside of literals and\n",
      "      identifiers\u001b[0m\n",
      " * ‘‘cannot nest’’ is considered source code,\n",
      "\u001b[0;1;32m                ^\n",
      "\u001b[0m\u001b[1minput_line_39:4:24: \u001b[0m\u001b[0;1;31merror: \u001b[0m\u001b[1mnon-ASCII characters are not allowed outside of literals and\n",
      "      identifiers\u001b[0m\n",
      " * ‘‘cannot nest’’ is considered source code,\n",
      "\u001b[0;1;32m                 ^\n",
      "\u001b[0m"
     ]
    },
    {
     "ename": "Interpreter Error",
     "evalue": "",
     "output_type": "error",
     "traceback": [
      "Interpreter Error: "
     ]
    }
   ],
   "source": [
    "/*\n",
    " * comment pairs /* */ cannot nest.\n",
    " * ‘‘cannot nest’’ is considered source code,\n",
    " * as is the rest of the program\n",
    " */\n",
    "int main()\n",
    "{\n",
    "    return 0;\n",
    "}\n",
    "main()"
   ]
  },
  {
   "cell_type": "markdown",
   "id": "91f7e978",
   "metadata": {},
   "source": [
    "## Exercise 8"
   ]
  },
  {
   "attachments": {
    "image.png": {
     "image/png": "[encoded data removed]"
    }
   },
   "cell_type": "markdown",
   "id": "3ecfea32",
   "metadata": {},
   "source": [
    "![image.png](attachment:image.png)"
   ]
  },
  {
   "cell_type": "markdown",
   "id": "c07c50f8",
   "metadata": {},
   "source": [
    "The first and second only are legals"
   ]
  },
  {
   "cell_type": "markdown",
   "id": "987931cd",
   "metadata": {},
   "source": [
    "**Test**"
   ]
  },
  {
   "cell_type": "code",
   "execution_count": 14,
   "id": "d1091e0b",
   "metadata": {},
   "outputs": [
    {
     "name": "stdout",
     "output_type": "stream",
     "text": [
      "/*"
     ]
    },
    {
     "data": {
      "text/plain": [
       "0"
      ]
     },
     "execution_count": 14,
     "metadata": {},
     "output_type": "execute_result"
    }
   ],
   "source": [
    "#include <iostream>\n",
    "int main()\n",
    "{\n",
    "    std::cout << \"/*\";\n",
    "    return 0;\n",
    "}\n",
    "main()"
   ]
  },
  {
   "cell_type": "code",
   "execution_count": 15,
   "id": "4e5febcd",
   "metadata": {},
   "outputs": [
    {
     "name": "stdout",
     "output_type": "stream",
     "text": [
      "*/"
     ]
    },
    {
     "data": {
      "text/plain": [
       "0"
      ]
     },
     "execution_count": 15,
     "metadata": {},
     "output_type": "execute_result"
    }
   ],
   "source": [
    "#include <iostream>\n",
    "int main()\n",
    "{\n",
    "    std::cout << \"*/\";\n",
    "    return 0;\n",
    "}\n",
    "main()"
   ]
  },
  {
   "cell_type": "code",
   "execution_count": 16,
   "id": "bf8045bf",
   "metadata": {},
   "outputs": [
    {
     "name": "stderr",
     "output_type": "stream",
     "text": [
      "\u001b[1minput_line_47:3:24: \u001b[0m\u001b[0;1;35mwarning: \u001b[0m\u001b[1mmissing terminating '\"' character [-Winvalid-pp-token]\u001b[0m\n",
      "    std::cout << /* \"*/\" */;\n",
      "\u001b[0;1;32m                       ^\n",
      "\u001b[0m\u001b[1minput_line_47:3:24: \u001b[0m\u001b[0;1;31merror: \u001b[0m\u001b[1mexpected expression\u001b[0m\n"
     ]
    },
    {
     "ename": "Interpreter Error",
     "evalue": "",
     "output_type": "error",
     "traceback": [
      "Interpreter Error: "
     ]
    }
   ],
   "source": [
    "#include <iostream>\n",
    "int main()\n",
    "{\n",
    "    std::cout << /* \"*/\" */;\n",
    "    return 0;\n",
    "}\n",
    "main()"
   ]
  },
  {
   "cell_type": "code",
   "execution_count": 17,
   "id": "a49f2364",
   "metadata": {},
   "outputs": [
    {
     "name": "stdout",
     "output_type": "stream",
     "text": [
      " /* "
     ]
    },
    {
     "data": {
      "text/plain": [
       "0"
      ]
     },
     "execution_count": 17,
     "metadata": {},
     "output_type": "execute_result"
    }
   ],
   "source": [
    "#include <iostream>\n",
    "int main()\n",
    "{\n",
    "    std::cout << /* \"*/\" /* \"/*\" */;\n",
    "    return 0;\n",
    "}\n",
    "main()"
   ]
  },
  {
   "cell_type": "markdown",
   "id": "bad24ce1",
   "metadata": {},
   "source": [
    "The third one appears to be also legal. "
   ]
  },
  {
   "cell_type": "markdown",
   "id": "363d4cc2",
   "metadata": {},
   "source": [
    "**Correction of errors**"
   ]
  },
  {
   "cell_type": "code",
   "execution_count": 18,
   "id": "a90984ef",
   "metadata": {},
   "outputs": [
    {
     "name": "stdout",
     "output_type": "stream",
     "text": [
      " */"
     ]
    },
    {
     "data": {
      "text/plain": [
       "0"
      ]
     },
     "execution_count": 18,
     "metadata": {},
     "output_type": "execute_result"
    }
   ],
   "source": [
    "#include <iostream>\n",
    "int main()\n",
    "{\n",
    "    std::cout << /* \"*/\" */\";\n",
    "    return 0;\n",
    "}\n",
    "main()"
   ]
  },
  {
   "cell_type": "markdown",
   "id": "190e5178",
   "metadata": {},
   "source": [
    "# Flow of Control"
   ]
  },
  {
   "cell_type": "markdown",
   "id": "1d52cd86",
   "metadata": {},
   "source": [
    "## The while Statement Program Example"
   ]
  },
  {
   "cell_type": "code",
   "execution_count": 19,
   "id": "41a2505a",
   "metadata": {},
   "outputs": [
    {
     "name": "stdout",
     "output_type": "stream",
     "text": [
      "Sum of 1 to 10 inclusive is 55\n"
     ]
    },
    {
     "data": {
      "text/plain": [
       "0"
      ]
     },
     "execution_count": 19,
     "metadata": {},
     "output_type": "execute_result"
    }
   ],
   "source": [
    "#include <iostream>\n",
    "int main()\n",
    "{\n",
    "    int sum = 0, val = 1;\n",
    "    // keep executing the while as long as val is less than or equal to 10\n",
    "    while (val <= 10) {\n",
    "        sum += val; // assigns sum + val to sum\n",
    "        ++val;\n",
    "    // add 1 to val\n",
    "    }\n",
    "    std::cout << \"Sum of 1 to 10 inclusive is \"\n",
    "              << sum << std::endl;\n",
    "    return 0;\n",
    "}\n",
    "main()"
   ]
  },
  {
   "cell_type": "markdown",
   "id": "4e3831ad",
   "metadata": {},
   "source": [
    "## Exercise 9"
   ]
  },
  {
   "attachments": {
    "image.png": {
     "image/png": "[encoded data removed]"
    }
   },
   "cell_type": "markdown",
   "id": "d20a51d4",
   "metadata": {},
   "source": [
    "![image.png](attachment:image.png)"
   ]
  },
  {
   "cell_type": "code",
   "execution_count": 20,
   "id": "68b9f38c",
   "metadata": {},
   "outputs": [
    {
     "name": "stdout",
     "output_type": "stream",
     "text": [
      "Sum of 50 to 100 inclusive is 3825\n"
     ]
    },
    {
     "data": {
      "text/plain": [
       "0"
      ]
     },
     "execution_count": 20,
     "metadata": {},
     "output_type": "execute_result"
    }
   ],
   "source": [
    "#include <iostream>\n",
    "int main()\n",
    "{\n",
    "    int sum = 0, val = 50;\n",
    "    // keep executing the while as long as val is less than or equal to 10\n",
    "    while (val <= 100) {\n",
    "        sum += val; // assigns sum + val to sum\n",
    "        ++val;\n",
    "    // add 1 to val\n",
    "    }\n",
    "    std::cout << \"Sum of 50 to 100 inclusive is \"\n",
    "              << sum << std::endl;\n",
    "    return 0;\n",
    "}\n",
    "main()"
   ]
  },
  {
   "cell_type": "markdown",
   "id": "46ec27cd",
   "metadata": {},
   "source": [
    "## Exercise 10"
   ]
  },
  {
   "attachments": {
    "image.png": {
     "image/png": "[encoded data removed]"
    }
   },
   "cell_type": "markdown",
   "id": "664675b3",
   "metadata": {},
   "source": [
    "![image.png](attachment:image.png)"
   ]
  },
  {
   "cell_type": "code",
   "execution_count": 21,
   "id": "30ba28e0",
   "metadata": {},
   "outputs": [
    {
     "name": "stdout",
     "output_type": "stream",
     "text": [
      "10\n",
      "9\n",
      "8\n",
      "7\n",
      "6\n",
      "5\n",
      "4\n",
      "3\n",
      "2\n",
      "1\n",
      "0\n"
     ]
    },
    {
     "data": {
      "text/plain": [
       "0"
      ]
     },
     "execution_count": 21,
     "metadata": {},
     "output_type": "execute_result"
    }
   ],
   "source": [
    "#include <iostream>\n",
    "int main()\n",
    "{\n",
    "    int val = 10;\n",
    "    // keep executing the while as long as val is greater than or equal to 0\n",
    "    while (val >= 0) {\n",
    "        std::cout << val << std::endl;\n",
    "        --val;\n",
    "    // add 1 to val\n",
    "    }\n",
    "    \n",
    "    return 0;\n",
    "}\n",
    "main()"
   ]
  },
  {
   "cell_type": "markdown",
   "id": "ed71c50e",
   "metadata": {},
   "source": [
    "## Exercise 11"
   ]
  },
  {
   "attachments": {
    "image.png": {
     "image/png": "[encoded data removed]"
    }
   },
   "cell_type": "markdown",
   "id": "42f017e6",
   "metadata": {},
   "source": [
    "![image.png](attachment:image.png)"
   ]
  },
  {
   "cell_type": "code",
   "execution_count": 22,
   "id": "3616d8d9",
   "metadata": {},
   "outputs": [
    {
     "name": "stdout",
     "output_type": "stream",
     "text": [
      "Please enter two integers in increasing order: \n",
      "\n",
      "1 2\n",
      "1\n",
      "2\n"
     ]
    },
    {
     "data": {
      "text/plain": [
       "0"
      ]
     },
     "execution_count": 22,
     "metadata": {},
     "output_type": "execute_result"
    }
   ],
   "source": [
    "#include <iostream>\n",
    "int main()\n",
    "{\n",
    "    int v1 = 0, val=0;\n",
    "    \n",
    "    std::cout << \"Please enter two integers in increasing order: \" << std::endl;\n",
    "    std::cin >> v1 >> val;\n",
    "    \n",
    "    // keep executing the while as long as v1 is less than or equal to val\n",
    "    while (v1 <= val) {\n",
    "        std::cout << v1 << std::endl;\n",
    "        ++v1;\n",
    "    }\n",
    "}\n",
    "main()"
   ]
  },
  {
   "cell_type": "markdown",
   "id": "025d16df",
   "metadata": {},
   "source": [
    "## The for Statement Program Example"
   ]
  },
  {
   "cell_type": "code",
   "execution_count": 23,
   "id": "a8d764fd",
   "metadata": {},
   "outputs": [
    {
     "name": "stdout",
     "output_type": "stream",
     "text": [
      "Sum of 1 to 10 inclusive is 55\n"
     ]
    },
    {
     "data": {
      "text/plain": [
       "0"
      ]
     },
     "execution_count": 23,
     "metadata": {},
     "output_type": "execute_result"
    }
   ],
   "source": [
    "#include <iostream>\n",
    "int main()\n",
    "{\n",
    "    int sum = 0;\n",
    "    // sum values from 1 through 10 inclusive\n",
    "    for (int val = 1; val <= 10; ++val)\n",
    "        sum += val; // equivalent to sum = sum + val\n",
    "        std::cout << \"Sum of 1 to 10 inclusive is \"\n",
    "                  << sum << std::endl;\n",
    "    return 0;\n",
    "}\n",
    "main()"
   ]
  },
  {
   "cell_type": "markdown",
   "id": "ca2a2dbe",
   "metadata": {},
   "source": [
    "## Exercise 12"
   ]
  },
  {
   "attachments": {
    "image.png": {
     "image/png": "[encoded data removed]"
    }
   },
   "cell_type": "markdown",
   "id": "c7da4bcf",
   "metadata": {},
   "source": [
    "![image.png](attachment:image.png)"
   ]
  },
  {
   "cell_type": "markdown",
   "id": "564d9b4c",
   "metadata": {},
   "source": [
    "- This for loop computes the sum of numbers between -100 and 100 inclusives. \n",
    "- The final value of sum is 0."
   ]
  },
  {
   "cell_type": "code",
   "execution_count": 24,
   "id": "cb6d5433",
   "metadata": {},
   "outputs": [
    {
     "name": "stdout",
     "output_type": "stream",
     "text": [
      "Sum of -100 to 100 inclusive is 0\n"
     ]
    },
    {
     "data": {
      "text/plain": [
       "0"
      ]
     },
     "execution_count": 24,
     "metadata": {},
     "output_type": "execute_result"
    }
   ],
   "source": [
    "#include <iostream>\n",
    "int main()\n",
    "{\n",
    "    int sum = 0;\n",
    "    // sum values from -100 through 100 inclusive\n",
    "    for (int i = -100;  i <= 100; ++i)\n",
    "        sum += i; // equivalent to sum = sum + i\n",
    "        std::cout << \"Sum of -100 to 100 inclusive is \"\n",
    "                  << sum << std::endl;\n",
    "    return 0;\n",
    "}\n",
    "main()"
   ]
  },
  {
   "cell_type": "markdown",
   "id": "97051b48",
   "metadata": {},
   "source": [
    "## Exercise 13"
   ]
  },
  {
   "attachments": {
    "image.png": {
     "image/png": "[encoded data removed]"
    }
   },
   "cell_type": "markdown",
   "id": "510b01f4",
   "metadata": {},
   "source": [
    "![image.png](attachment:image.png)"
   ]
  },
  {
   "cell_type": "code",
   "execution_count": 25,
   "id": "12f0a931",
   "metadata": {},
   "outputs": [
    {
     "name": "stdout",
     "output_type": "stream",
     "text": [
      "Sum of 1 to 10 inclusive is 55\n"
     ]
    },
    {
     "data": {
      "text/plain": [
       "0"
      ]
     },
     "execution_count": 25,
     "metadata": {},
     "output_type": "execute_result"
    }
   ],
   "source": [
    "#include <iostream>\n",
    "int main()\n",
    "{\n",
    "    int sum = 0;\n",
    "    //  sum values from 1 through 10 inclusive\n",
    "    for (int val = 1; val <= 10; ++val) {\n",
    "        sum += val; // assigns sum + val to sum\n",
    "    }\n",
    "    std::cout << \"Sum of 1 to 10 inclusive is \"\n",
    "              << sum << std::endl;\n",
    "    return 0;\n",
    "}\n",
    "main()"
   ]
  },
  {
   "cell_type": "code",
   "execution_count": 26,
   "id": "da405759",
   "metadata": {},
   "outputs": [
    {
     "name": "stdout",
     "output_type": "stream",
     "text": [
      "Sum of 50 to 100 inclusive is 3825\n"
     ]
    },
    {
     "data": {
      "text/plain": [
       "0"
      ]
     },
     "execution_count": 26,
     "metadata": {},
     "output_type": "execute_result"
    }
   ],
   "source": [
    "#include <iostream>\n",
    "int main()\n",
    "{\n",
    "    int sum = 0;\n",
    "    //  sum values from 50 through 100 inclusive\n",
    "    for (int val = 50; val <= 100; ++val) {\n",
    "        sum += val; // assigns sum + val to sum\n",
    "    }\n",
    "    std::cout << \"Sum of 50 to 100 inclusive is \"\n",
    "              << sum << std::endl;\n",
    "    return 0;\n",
    "}\n",
    "main()"
   ]
  },
  {
   "cell_type": "markdown",
   "id": "6f6c8589",
   "metadata": {},
   "source": [
    "## Exercise 14"
   ]
  },
  {
   "attachments": {
    "image.png": {
     "image/png": "[encoded data removed]"
    }
   },
   "cell_type": "markdown",
   "id": "ec10d78b",
   "metadata": {},
   "source": [
    "![image.png](attachment:image.png)"
   ]
  },
  {
   "attachments": {
    "image.png": {
     "image/png": "[encoded data removed]"
    }
   },
   "cell_type": "markdown",
   "id": "3e56af13",
   "metadata": {},
   "source": [
    "![Loops](https://im0-tub-com.yandex.net/i?id=b9ccfd1bdcbf893720a5f9f9c55b36b8&n=13)\n",
    "![https://techdifferences.com/differenece-between-for-and-while-loop.html](attachment:image.png)"
   ]
  },
  {
   "cell_type": "markdown",
   "id": "632bf912",
   "metadata": {},
   "source": [
    "**Personal Comprehension**"
   ]
  },
  {
   "cell_type": "markdown",
   "id": "63a92acb",
   "metadata": {},
   "source": [
    "|                             | Advantages     || Disadvantages  ||\n",
    "|-----------------------------|---------------|-|---------------|-|\n",
    "|Loop Type                    |  For    |While  |  For    |While  |\n",
    "|-----------------------------|---------|-------|---------|-------|\n",
    "|N°OfLines                    |    Less |       |         |  More |\n",
    "|Readable                     |         |    +  |    -    |       |\n",
    "|N°Iteration Known            |    +    |       |         |    -  |\n",
    "|Initialization In Loop       |    +    |       |         |    -  |\n",
    "|Iteration Statement Position |         |  Top  |Anywhere |       |"
   ]
  },
  {
   "cell_type": "markdown",
   "id": "d17ec479",
   "metadata": {},
   "source": [
    "## Reading an unknown number of input program example"
   ]
  },
  {
   "cell_type": "code",
   "execution_count": 27,
   "id": "8c812e2f",
   "metadata": {},
   "outputs": [
    {
     "name": "stdout",
     "output_type": "stream",
     "text": [
      "1 2 3 4\n",
      "=\n",
      "Sum is: 10\n"
     ]
    },
    {
     "data": {
      "text/plain": [
       "0"
      ]
     },
     "execution_count": 27,
     "metadata": {},
     "output_type": "execute_result"
    }
   ],
   "source": [
    "#include <iostream>\n",
    "int main()\n",
    "{\n",
    "    int sum = 0, value = 0;\n",
    "    // read until end-of-file, calculating a running total of all values read\n",
    "    while (std::cin >> value)\n",
    "        sum += value; // equivalent to sum = sum + value\n",
    "        std::cout << \"Sum is: \" << sum << std::endl;\n",
    "    return 0;\n",
    "}\n",
    "main()"
   ]
  },
  {
   "cell_type": "markdown",
   "id": "c70c529f",
   "metadata": {},
   "source": [
    "## Exercise 15"
   ]
  },
  {
   "attachments": {
    "image.png": {
     "image/png": "[encoded data removed]"
    }
   },
   "cell_type": "markdown",
   "id": "0c673540",
   "metadata": {},
   "source": [
    "![image.png](attachment:image.png)"
   ]
  },
  {
   "attachments": {
    "image.png": {
     "image/png": "[encoded data removed]"
    }
   },
   "cell_type": "markdown",
   "id": "be5dff66",
   "metadata": {},
   "source": [
    "![image.png](attachment:image.png)"
   ]
  },
  {
   "cell_type": "code",
   "execution_count": 28,
   "id": "55aecc24",
   "metadata": {},
   "outputs": [
    {
     "name": "stderr",
     "output_type": "stream",
     "text": [
      "\u001b[1minput_line_81:5:9: \u001b[0m\u001b[0;1;31merror: \u001b[0m\u001b[1mexpected expression\u001b[0m\n",
      "        return 0;\n",
      "\u001b[0;1;32m        ^\n",
      "\u001b[0m\u001b[1minput_line_81:9:2: \u001b[0m\u001b[0;1;31merror: \u001b[0m\u001b[1mexpected ';' at end of declaration\u001b[0m\n",
      "}\n",
      "\u001b[0;1;32m ^\n",
      "\u001b[0m\u001b[0;32m ;\n",
      "\u001b[0m\u001b[1m<<< cling interactive line includer >>>:1:1: \u001b[0m\u001b[0;1;31merror: \u001b[0m\u001b[1mexpected '}'\u001b[0m\n",
      "\u001b[1minput_line_81:1:43: \u001b[0m\u001b[0;1;30mnote: \u001b[0mto match this '{'\u001b[0m\n",
      "void __cling_Un1Qu352(void* vpClingValue) {\n",
      "\u001b[0;1;32m                                          ^\n",
      "\u001b[0m"
     ]
    },
    {
     "ename": "Interpreter Error",
     "evalue": "",
     "output_type": "error",
     "traceback": [
      "Interpreter Error: "
     ]
    }
   ],
   "source": [
    "// Error 1: missing \")\"\n",
    "int main(\n",
    "    {\n",
    "        return 0;\n",
    "    }\n",
    "main()"
   ]
  },
  {
   "cell_type": "code",
   "execution_count": 29,
   "id": "641fa071",
   "metadata": {},
   "outputs": [
    {
     "name": "stderr",
     "output_type": "stream",
     "text": [
      "\u001b[1minput_line_84:3:41: \u001b[0m\u001b[0;1;31merror: \u001b[0m\u001b[1mexpected ';' after expression\u001b[0m\n",
      "    std::cout << \"I am Max\" << std::endl:\n",
      "\u001b[0;1;32m                                        ^\n",
      "\u001b[0m\u001b[0;32m                                        ;\n",
      "\u001b[0m"
     ]
    },
    {
     "ename": "Interpreter Error",
     "evalue": "",
     "output_type": "error",
     "traceback": [
      "Interpreter Error: "
     ]
    }
   ],
   "source": [
    "//Error 2: Used colon, not semicolon after endl\n",
    "#include <iostream>\n",
    "int main()\n",
    "{\n",
    "    std::cout << \"I am Max\" << std::endl:\n",
    "    return 0;\n",
    "}"
   ]
  },
  {
   "cell_type": "code",
   "execution_count": 30,
   "id": "32b41ffe",
   "metadata": {},
   "outputs": [
    {
     "name": "stderr",
     "output_type": "stream",
     "text": [
      "\u001b[1minput_line_87:3:19: \u001b[0m\u001b[0;1;31merror: \u001b[0m\u001b[1mexpected ';' after expression\u001b[0m\n",
      "    std::cout << I am Max << std::endl;\n",
      "\u001b[0;1;32m                  ^\n",
      "\u001b[0m\u001b[0;32m                  ;\n",
      "\u001b[0m\u001b[1minput_line_87:3:18: \u001b[0m\u001b[0;1;31merror: \u001b[0m\u001b[1muse of undeclared identifier 'I'\u001b[0m\n",
      "    std::cout << I am Max << std::endl;\n",
      "\u001b[0;1;32m                 ^\n",
      "\u001b[0m\u001b[1minput_line_87:3:20: \u001b[0m\u001b[0;1;31merror: \u001b[0m\u001b[1munknown type name 'am'\u001b[0m\n",
      "    std::cout << I am Max << std::endl;\n",
      "\u001b[0;1;32m                   ^\n",
      "\u001b[0m\u001b[1minput_line_87:3:26: \u001b[0m\u001b[0;1;31merror: \u001b[0m\u001b[1mexpected ';' at end of declaration\u001b[0m\n",
      "    std::cout << I am Max << std::endl;\n",
      "\u001b[0;1;32m                         ^\n",
      "\u001b[0m\u001b[0;32m                         ;\n",
      "\u001b[0m"
     ]
    },
    {
     "ename": "Interpreter Error",
     "evalue": "",
     "output_type": "error",
     "traceback": [
      "Interpreter Error: "
     ]
    }
   ],
   "source": [
    "// Error 3: Misisng quotes around string literal\n",
    "#include <iostream>\n",
    "int main()\n",
    "{\n",
    "    std::cout << I am Max << std::endl;\n",
    "    return 0;\n",
    "}"
   ]
  },
  {
   "cell_type": "code",
   "execution_count": 31,
   "id": "68810eb1",
   "metadata": {},
   "outputs": [
    {
     "name": "stderr",
     "output_type": "stream",
     "text": [
      "\u001b[1minput_line_90:3:28: \u001b[0m\u001b[0;1;31merror: \u001b[0m\u001b[1mexpected ';' after expression\u001b[0m\n",
      "    std::cout << \"I am Max\" std::endl;\n",
      "\u001b[0;1;32m                           ^\n",
      "\u001b[0m\u001b[0;32m                           ;\n",
      "\u001b[0m\u001b[1minput_line_90:3:29: \u001b[0m\u001b[0;1;31merror: \u001b[0m\u001b[1mreference to overloaded function could not be resolved; did you mean\n",
      "      to call it?\u001b[0m\n",
      "    std::cout << \"I am Max\" std::endl;\n",
      "\u001b[0;1;32m                            ^~~~~~~~~\n",
      "\u001b[0m\u001b[1m/home/capitaindata/anaconda3/envs/xeus-cling/bin/../lib/gcc/x86_64-conda-linux-gnu/9.3.0/../../../../x86_64-conda-linux-gnu/include/c++/9.3.0/ostream:599:5: \u001b[0m\u001b[0;1;30mnote: \u001b[0mpossible target for call\u001b[0m\n",
      "    endl(basic_ostream<_CharT, _Traits>& __os)\n",
      "\u001b[0;1;32m    ^\n",
      "\u001b[0m"
     ]
    },
    {
     "ename": "Interpreter Error",
     "evalue": "",
     "output_type": "error",
     "traceback": [
      "Interpreter Error: "
     ]
    }
   ],
   "source": [
    "// Error 4: Second output operator is missing\n",
    "#include <iostream>\n",
    "int main()\n",
    "{\n",
    "    std::cout << \"I am Max\" std::endl;\n",
    "    return 0;\n",
    "}"
   ]
  },
  {
   "cell_type": "code",
   "execution_count": 32,
   "id": "5b9fb263",
   "metadata": {},
   "outputs": [
    {
     "name": "stderr",
     "output_type": "stream",
     "text": [
      "\u001b[1minput_line_93:4:13: \u001b[0m\u001b[0;1;31merror: \u001b[0m\u001b[1mexpected ';' after return statement\u001b[0m\n",
      "    return 0\n",
      "\u001b[0;1;32m            ^\n",
      "\u001b[0m\u001b[0;32m            ;\n",
      "\u001b[0m"
     ]
    },
    {
     "ename": "Interpreter Error",
     "evalue": "",
     "output_type": "error",
     "traceback": [
      "Interpreter Error: "
     ]
    }
   ],
   "source": [
    "// Error 5: missing ; on return statement\n",
    "#include <iostream>\n",
    "int main()\n",
    "{\n",
    "    std::cout << \"I am Max\" << std::endl;\n",
    "    return 0\n",
    "}"
   ]
  },
  {
   "cell_type": "code",
   "execution_count": 33,
   "id": "d8dc8377",
   "metadata": {},
   "outputs": [
    {
     "name": "stderr",
     "output_type": "stream",
     "text": [
      "\u001b[1minput_line_94:7:2: \u001b[0m\u001b[0;1;31merror: \u001b[0m\u001b[1mno matching function for call to 'sum'\u001b[0m\n",
      " sum(\"a\", \"b\")\n",
      "\u001b[0;1;32m ^~~\n",
      "\u001b[0m\u001b[1minput_line_94:2:5: \u001b[0m\u001b[0;1;30mnote: \u001b[0mcandidate function not viable: no known conversion from\n",
      "      'const char [2]' to 'int' for 1st argument\u001b[0m\n",
      "int sum(int a, int b)\n",
      "\u001b[0;1;32m    ^\n",
      "\u001b[0m"
     ]
    },
    {
     "ename": "Interpreter Error",
     "evalue": "",
     "output_type": "error",
     "traceback": [
      "Interpreter Error: "
     ]
    }
   ],
   "source": [
    "//Error 6: Type Error\n",
    "int sum(int a, int b)\n",
    "{\n",
    "    return a + b;\n",
    "}\n",
    "\n",
    "sum(\"a\", \"b\")"
   ]
  },
  {
   "cell_type": "code",
   "execution_count": 34,
   "id": "0fcdf51f",
   "metadata": {},
   "outputs": [
    {
     "name": "stderr",
     "output_type": "stream",
     "text": [
      "\u001b[1minput_line_97:4:17: \u001b[0m\u001b[0;1;31merror: \u001b[0m\u001b[1muse of undeclared identifier 'v'\u001b[0m\n",
      "    std::cin >> v >> v2;\n",
      "\u001b[0;1;32m                ^\n",
      "\u001b[0m\u001b[1minput_line_97:7:9: \u001b[0m\u001b[0;1;31merror: \u001b[0m\u001b[1muse of undeclared identifier 'cout'; did you mean 'std::cout'?\u001b[0m\n",
      "        cout << v1 + v2 << std::endl;\n",
      "\u001b[0;1;32m        ^~~~\n",
      "\u001b[0m\u001b[0;32m        std::cout\n",
      "\u001b[0m\u001b[1m/home/capitaindata/anaconda3/envs/xeus-cling/bin/../lib/gcc/x86_64-conda-linux-gnu/9.3.0/../../../../x86_64-conda-linux-gnu/include/c++/9.3.0/iostream:61:18: \u001b[0m\u001b[0;1;30mnote: \u001b[0m'std::cout' declared here\u001b[0m\n",
      "  extern ostream cout;          /// Linked to standard output\n",
      "\u001b[0;1;32m                 ^\n",
      "\u001b[0m"
     ]
    },
    {
     "ename": "Interpreter Error",
     "evalue": "",
     "output_type": "error",
     "traceback": [
      "Interpreter Error: "
     ]
    }
   ],
   "source": [
    "// Declaration Errors\n",
    "#include <iostream>\n",
    "int main()\n",
    "{\n",
    "    int v1 = 0, v2 = 0;\n",
    "    std::cin >> v >> v2;\n",
    "    // error: uses \" v \" not \" v1 \"\n",
    "    // error: cout not defined; should be std::cout\n",
    "        cout << v1 + v2 << std::endl;\n",
    "    return 0;\n",
    "}"
   ]
  },
  {
   "cell_type": "markdown",
   "id": "70e52ba9",
   "metadata": {},
   "source": [
    "## Exercise 16"
   ]
  },
  {
   "attachments": {
    "image.png": {
     "image/png": "[encoded data removed]"
    }
   },
   "cell_type": "markdown",
   "id": "e4741b94",
   "metadata": {},
   "source": [
    "![image.png](attachment:image.png)"
   ]
  },
  {
   "cell_type": "code",
   "execution_count": 35,
   "id": "4b778a8d",
   "metadata": {},
   "outputs": [
    {
     "name": "stdout",
     "output_type": "stream",
     "text": [
      "Please enter some integers to sum\n",
      "2 3 4 5 =\n",
      "Sum is 14\n"
     ]
    },
    {
     "data": {
      "text/plain": [
       "0"
      ]
     },
     "execution_count": 35,
     "metadata": {},
     "output_type": "execute_result"
    }
   ],
   "source": [
    "#include <iostream>\n",
    "int main()\n",
    "{\n",
    "    int sum = 0;\n",
    "    std::cout << \"Please enter some integers to sum\" << std::endl;\n",
    "    for(int value = 0;std::cin >> value;)\n",
    "    {\n",
    "        sum += value;\n",
    "    }\n",
    "    std::cout << \"Sum is \" << sum << std::endl;\n",
    "}\n",
    "main()  "
   ]
  },
  {
   "cell_type": "markdown",
   "id": "3f7a7c96",
   "metadata": {},
   "source": [
    "## The if Statement Program Example"
   ]
  },
  {
   "cell_type": "code",
   "execution_count": 37,
   "id": "57c9f019",
   "metadata": {},
   "outputs": [
    {
     "name": "stdout",
     "output_type": "stream",
     "text": [
      "42 42 42 42 42 55 55 62 100 100 100 ;\n",
      "42 occurs 5 times\n",
      "55 occurs 2 times\n",
      "62 occurs 1 times\n",
      "100 occurs 3 times\n"
     ]
    },
    {
     "data": {
      "text/plain": [
       "0"
      ]
     },
     "execution_count": 37,
     "metadata": {},
     "output_type": "execute_result"
    }
   ],
   "source": [
    "#include <iostream>\n",
    "int main()\n",
    "{\n",
    "    // currVal is the number we’re counting; we’ll read new values into val\n",
    "    int currVal = 0, val = 0;\n",
    "    // read first number and ensure that we have data to process\n",
    "    if (std::cin >> currVal) {\n",
    "        int cnt = 1; // store the count for the current value we’re processing\n",
    "        while (std::cin >> val) { // read the remaining numbers\n",
    "            if (val == currVal)\n",
    "                // if the values are the same\n",
    "                ++cnt;\n",
    "                // add 1 to cnt\n",
    "            else { // otherwise, print the count for the previous value\n",
    "                std::cout << currVal << \" occurs \"\n",
    "                << cnt << \" times\" << std::endl;\n",
    "                currVal = val;\n",
    "                // remember the new value\n",
    "                cnt = 1;\n",
    "                // reset the counter\n",
    "            }\n",
    "        } // while loop ends here\n",
    "        // remember to print the count for the last value in the file\n",
    "        std::cout << currVal << \" occurs \"\n",
    "        << cnt << \" times\" << std::endl;\n",
    "    } // outermost if statement ends here\n",
    "    return 0;\n",
    "}\n",
    "main()"
   ]
  },
  {
   "cell_type": "markdown",
   "id": "a2a47b94",
   "metadata": {},
   "source": [
    "## Exercise 17"
   ]
  },
  {
   "attachments": {
    "image.png": {
     "image/png": "[encoded data removed]"
    }
   },
   "cell_type": "markdown",
   "id": "a8f55671",
   "metadata": {},
   "source": [
    "![image.png](attachment:image.png)"
   ]
  },
  {
   "cell_type": "markdown",
   "id": "a3fb6011",
   "metadata": {},
   "source": [
    "It will just execute the instruction in the second if statement and then execute the instuctions out of the while loop."
   ]
  },
  {
   "cell_type": "markdown",
   "id": "054113c6",
   "metadata": {},
   "source": [
    "It will alternatively run the if and else statements in the while loop."
   ]
  },
  {
   "cell_type": "markdown",
   "id": "60a7fba8",
   "metadata": {},
   "source": [
    "## Exercise 18"
   ]
  },
  {
   "attachments": {
    "image.png": {
     "image/png": "[encoded data removed]"
    }
   },
   "cell_type": "markdown",
   "id": "9287d571",
   "metadata": {},
   "source": [
    "![image.png](attachment:image.png)"
   ]
  },
  {
   "cell_type": "code",
   "execution_count": 39,
   "id": "955c3837",
   "metadata": {
    "scrolled": true
   },
   "outputs": [
    {
     "name": "stdout",
     "output_type": "stream",
     "text": [
      "20 20 20 20 20 20 20 20 20 20 20 20 ;\n",
      "20 occurs 12 times\n"
     ]
    },
    {
     "data": {
      "text/plain": [
       "0"
      ]
     },
     "execution_count": 39,
     "metadata": {},
     "output_type": "execute_result"
    }
   ],
   "source": [
    "// All values equal\n",
    "main()"
   ]
  },
  {
   "cell_type": "code",
   "execution_count": 40,
   "id": "d42aff91",
   "metadata": {
    "scrolled": false
   },
   "outputs": [
    {
     "name": "stdout",
     "output_type": "stream",
     "text": [
      "20 30 40 50 ;\n",
      "20 occurs 1 times\n",
      "30 occurs 1 times\n",
      "40 occurs 1 times\n",
      "50 occurs 1 times\n"
     ]
    },
    {
     "data": {
      "text/plain": [
       "0"
      ]
     },
     "execution_count": 40,
     "metadata": {},
     "output_type": "execute_result"
    }
   ],
   "source": [
    "// No duplicate values\n",
    "main()"
   ]
  },
  {
   "cell_type": "markdown",
   "id": "b2e1a2d3",
   "metadata": {},
   "source": [
    "## Exercise 19"
   ]
  },
  {
   "attachments": {
    "image.png": {
     "image/png": "[encoded data removed]"
    }
   },
   "cell_type": "markdown",
   "id": "7c296840",
   "metadata": {},
   "source": [
    "![image.png](attachment:image.png)"
   ]
  },
  {
   "attachments": {
    "image.png": {
     "image/png": "[encoded data removed]"
    }
   },
   "cell_type": "markdown",
   "id": "6f448773",
   "metadata": {},
   "source": [
    "![image.png](attachment:image.png)"
   ]
  },
  {
   "cell_type": "code",
   "execution_count": 1,
   "id": "f7e1fad2",
   "metadata": {},
   "outputs": [
    {
     "name": "stdout",
     "output_type": "stream",
     "text": [
      "Please enter two integers: \n",
      "2 7 \n",
      "2\n",
      "3\n",
      "4\n",
      "5\n",
      "6\n",
      "7\n"
     ]
    },
    {
     "data": {
      "text/plain": [
       "0"
      ]
     },
     "execution_count": 1,
     "metadata": {},
     "output_type": "execute_result"
    }
   ],
   "source": [
    "#include <iostream>\n",
    "int main()\n",
    "{\n",
    "    int v1 = 0, v2 = 0, val=0;\n",
    "    \n",
    "    std::cout << \"Please enter two integers: \" << std::endl;\n",
    "    std::cin >> v1 >> v2;\n",
    "    \n",
    "    // keep executing the while as long as v1 is less than or equal to val\n",
    "    if (v1 <= v2)\n",
    "    {\n",
    "        val = v2;\n",
    "    }\n",
    "    else\n",
    "    {\n",
    "        val = v1;\n",
    "        v1 = v2;\n",
    "            \n",
    "    }\n",
    "    while (v1 <= val) {\n",
    "        std::cout << v1 << std::endl;\n",
    "        ++v1;\n",
    "    }\n",
    "}\n",
    "main()"
   ]
  },
  {
   "cell_type": "code",
   "execution_count": 2,
   "id": "44433d26",
   "metadata": {},
   "outputs": [
    {
     "name": "stdout",
     "output_type": "stream",
     "text": [
      "Please enter two integers: \n",
      "8 1\n",
      "1\n",
      "2\n",
      "3\n",
      "4\n",
      "5\n",
      "6\n",
      "7\n",
      "8\n"
     ]
    },
    {
     "data": {
      "text/plain": [
       "0"
      ]
     },
     "execution_count": 2,
     "metadata": {},
     "output_type": "execute_result"
    }
   ],
   "source": [
    "main()"
   ]
  },
  {
   "cell_type": "markdown",
   "id": "e6096a33",
   "metadata": {},
   "source": [
    "# Introducing Classes"
   ]
  },
  {
   "cell_type": "markdown",
   "id": "30ceafe3",
   "metadata": {},
   "source": [
    "## Reading and Writing Sales_items Program Example"
   ]
  },
  {
   "cell_type": "code",
   "execution_count": 3,
   "id": "16b3be66",
   "metadata": {},
   "outputs": [
    {
     "name": "stdout",
     "output_type": "stream",
     "text": [
      "0-201-70353-X 4 24.99\n",
      "0-201-70353-X 4 99.96 24.99\n"
     ]
    },
    {
     "data": {
      "text/plain": [
       "0"
      ]
     },
     "execution_count": 3,
     "metadata": {},
     "output_type": "execute_result"
    }
   ],
   "source": [
    "#include <iostream>\n",
    "#include \"Sales_item.h\"\n",
    "int main()\n",
    "{\n",
    "    Sales_item book;\n",
    "    // read ISBN, number of copies sold, and sales price\n",
    "    std::cin >> book;\n",
    "    // write ISBN, number of copies sold, total revenue, and average price\n",
    "    std::cout << book << std::endl;\n",
    "    return 0;\n",
    "}\n",
    "main()"
   ]
  },
  {
   "cell_type": "markdown",
   "id": "bf4be3d1",
   "metadata": {},
   "source": [
    "## Adding Sales_items Program Example"
   ]
  },
  {
   "cell_type": "code",
   "execution_count": 4,
   "id": "a8a81ea0",
   "metadata": {},
   "outputs": [
    {
     "name": "stdout",
     "output_type": "stream",
     "text": [
      "0-201-78345-X 3 20.00 0-201-78345-X 2 25.00\n",
      "0-201-78345-X 5 110 22\n"
     ]
    },
    {
     "data": {
      "text/plain": [
       "0"
      ]
     },
     "execution_count": 4,
     "metadata": {},
     "output_type": "execute_result"
    }
   ],
   "source": [
    "#include <iostream>\n",
    "#include \"Sales_item.h\"\n",
    "int main()\n",
    "{\n",
    "    Sales_item item1, item2;\n",
    "    std::cin >> item1 >> item2;\n",
    "    // read a pair of transactions\n",
    "    std::cout << item1 + item2 << std::endl; // print their sum\n",
    "    return 0;\n",
    "}\n",
    "main()"
   ]
  },
  {
   "cell_type": "markdown",
   "id": "f0da2310",
   "metadata": {},
   "source": [
    "## Exercise 20"
   ]
  },
  {
   "attachments": {
    "image.png": {
     "image/png": "[encoded data removed]"
    }
   },
   "cell_type": "markdown",
   "id": "51f01c08",
   "metadata": {},
   "source": [
    "![image.png](attachment:image.png)"
   ]
  },
  {
   "cell_type": "code",
   "execution_count": 1,
   "id": "0b30759d",
   "metadata": {},
   "outputs": [
    {
     "name": "stdout",
     "output_type": "stream",
     "text": [
      "0-201-78345-X 2 25.00 0-201-70353-X 4 24.99 ; ;\n",
      "0-201-78345-X 2 50 25\n",
      "0-201-70353-X 4 99.96 24.99\n"
     ]
    },
    {
     "data": {
      "text/plain": [
       "0"
      ]
     },
     "execution_count": 1,
     "metadata": {},
     "output_type": "execute_result"
    }
   ],
   "source": [
    "#include <iostream>\n",
    "#include \"Sales_item.h\"\n",
    "int main()\n",
    "{\n",
    "    for (Sales_item item; std::cin >> item;)\n",
    "    {\n",
    "        std::cout << item << std::endl;\n",
    "    }\n",
    "    return 0;\n",
    "}\n",
    "main()"
   ]
  },
  {
   "cell_type": "markdown",
   "id": "c107417c",
   "metadata": {},
   "source": [
    "## Exercise 21"
   ]
  },
  {
   "attachments": {
    "image.png": {
     "image/png": "[encoded data removed]"
    }
   },
   "cell_type": "markdown",
   "id": "e414b05f",
   "metadata": {},
   "source": [
    "![image.png](attachment:image.png)"
   ]
  },
  {
   "cell_type": "code",
   "execution_count": 2,
   "id": "94e998f3",
   "metadata": {
    "scrolled": true
   },
   "outputs": [
    {
     "name": "stdout",
     "output_type": "stream",
     "text": [
      "Please enter two sales items with the same isbn : \n",
      "0-201-78345-X 3 20.00 0-201-78345-X 2 25.00\n",
      "0-201-78345-X 5 110 22\n"
     ]
    },
    {
     "data": {
      "text/plain": [
       "0"
      ]
     },
     "execution_count": 2,
     "metadata": {},
     "output_type": "execute_result"
    }
   ],
   "source": [
    "#include <iostream>\n",
    "#include \"Sales_item.h\"\n",
    "int main()\n",
    "{\n",
    "    Sales_item item1, item2;\n",
    "    std::cout << \"Please enter two sales items with the same isbn : \" << std::endl;\n",
    "    std::cin >> item1 >> item2;\n",
    "    // read a pair of transactions\n",
    "    std::cout << item1 + item2 << std::endl; // print their sum    \n",
    "    return 0;\n",
    "}\n",
    "main()"
   ]
  },
  {
   "cell_type": "markdown",
   "id": "4d5e9dd9",
   "metadata": {},
   "source": [
    "## Exercise 22"
   ]
  },
  {
   "attachments": {
    "image.png": {
     "image/png": "[encoded data removed]"
    }
   },
   "cell_type": "markdown",
   "id": "466b3407",
   "metadata": {},
   "source": [
    "![image.png](attachment:image.png)"
   ]
  },
  {
   "cell_type": "code",
   "execution_count": 22,
   "id": "54d7e5f8",
   "metadata": {},
   "outputs": [
    {
     "name": "stdout",
     "output_type": "stream",
     "text": [
      "0-201-78345-X 3 20.00 0-201-78345-X 2 20.00 0-201-78345-X 4 30.00 0-201-78345-X 1 25.00 ; ;\n",
      " 10 245 24.5\n"
     ]
    },
    {
     "data": {
      "text/plain": [
       "0"
      ]
     },
     "execution_count": 22,
     "metadata": {},
     "output_type": "execute_result"
    }
   ],
   "source": [
    "#include <iostream>\n",
    "#include \"Sales_item.h\"\n",
    "int main()\n",
    "{\n",
    "    Sales_item sum_item, item;\n",
    "     // read until end-of-file, calculating a running total of all items read\n",
    "    while (std::cin >> item)\n",
    "        sum_item += item; // equivalent to sum = sum + value\n",
    "    std::cout << sum_item << std::endl;\n",
    "    return 0;\n",
    "}\n",
    "main()"
   ]
  },
  {
   "cell_type": "markdown",
   "id": "f0348ed0",
   "metadata": {},
   "source": [
    "## A First Look at Member Functions Program Example"
   ]
  },
  {
   "cell_type": "markdown",
   "id": "134fa5b1",
   "metadata": {},
   "source": [
    "**A member function is a function that is\n",
    "defined as part of a class. Member functions are sometimes referred to as methods.**"
   ]
  },
  {
   "cell_type": "code",
   "execution_count": 10,
   "id": "46e3754c",
   "metadata": {},
   "outputs": [
    {
     "name": "stdout",
     "output_type": "stream",
     "text": [
      "0-201-78345-X 3 20.00 0-201-71345-X 3 23.00\n"
     ]
    },
    {
     "name": "stderr",
     "output_type": "stream",
     "text": [
      "Data must refer to same ISBN\n"
     ]
    },
    {
     "data": {
      "text/plain": [
       "-1"
      ]
     },
     "execution_count": 10,
     "metadata": {},
     "output_type": "execute_result"
    }
   ],
   "source": [
    "#include <iostream>\n",
    "#include \"Sales_item.h\"\n",
    "int main()\n",
    "{\n",
    "    Sales_item item1, item2;\n",
    "    std::cin >> item1 >> item2;\n",
    "    // first check that item1 and item2 represent the same book\n",
    "    if (item1.isbn() == item2.isbn()) {\n",
    "        std::cout << item1 + item2 << std::endl;\n",
    "        return 0;\n",
    "    // indicate success\n",
    "    } else {\n",
    "        std::cerr << \"Data must refer to same ISBN\"\n",
    "        << std::endl;\n",
    "        return -1; // indicate failure\n",
    "    }\n",
    "}\n",
    "main()"
   ]
  },
  {
   "cell_type": "markdown",
   "id": "16a7c9b9",
   "metadata": {},
   "source": [
    "## Exercise 23"
   ]
  },
  {
   "attachments": {
    "image.png": {
     "image/png": "[encoded data removed]"
    }
   },
   "cell_type": "markdown",
   "id": "17313745",
   "metadata": {},
   "source": [
    "![image.png](attachment:image.png)"
   ]
  },
  {
   "cell_type": "code",
   "execution_count": 16,
   "id": "64c6026b",
   "metadata": {},
   "outputs": [],
   "source": [
    "#include <iostream>\n",
    "#include \"Sales_item.h\"\n",
    "int main()\n",
    "{\n",
    "    Sales_item currItem, item;\n",
    "    if (std::cin >> currItem)\n",
    "    {\n",
    "        Sales_item sum_items;\n",
    "        sum_items = currItem;\n",
    "        while (std::cin >> item)\n",
    "        {\n",
    "            if (item.isbn()==currItem.isbn())\n",
    "            {\n",
    "                sum_items += item;\n",
    "            }\n",
    "            else\n",
    "            {\n",
    "                std::cout << sum_items << std::endl;\n",
    "                currItem = item;\n",
    "                sum_items = currItem;\n",
    "            }\n",
    "        }\n",
    "         std::cout << sum_items << std::endl;\n",
    "    }\n",
    "    return 0;\n",
    "}"
   ]
  },
  {
   "cell_type": "markdown",
   "id": "4d5ab109",
   "metadata": {},
   "source": [
    "## Exercise 24"
   ]
  },
  {
   "attachments": {
    "image.png": {
     "image/png": "[encoded data removed]"
    }
   },
   "cell_type": "markdown",
   "id": "fdf67582",
   "metadata": {},
   "source": [
    "![image.png](attachment:image.png)"
   ]
  },
  {
   "cell_type": "code",
   "execution_count": 17,
   "id": "f2c3641f",
   "metadata": {},
   "outputs": [
    {
     "name": "stdout",
     "output_type": "stream",
     "text": [
      "0-201-78345-X 3 20.00 0-201-78345-X 2 20.00 0-211-78345-X 4 30.00 0-211-78345-X 1 25.00 ; ;\n",
      "0-201-78345-X 5 100 20\n",
      "0-211-78345-X 5 145 29\n"
     ]
    },
    {
     "data": {
      "text/plain": [
       "0"
      ]
     },
     "execution_count": 17,
     "metadata": {},
     "output_type": "execute_result"
    }
   ],
   "source": [
    "main()"
   ]
  },
  {
   "cell_type": "markdown",
   "id": "f5b952b2",
   "metadata": {},
   "source": [
    "# The Bookstore Program"
   ]
  },
  {
   "cell_type": "code",
   "execution_count": 23,
   "id": "d70e7265",
   "metadata": {},
   "outputs": [],
   "source": [
    "#include <iostream>\n",
    "#include \"Sales_item.h\"\n",
    "int main()\n",
    "{\n",
    "    Sales_item total; // variable to hold data for the next transaction\n",
    "    // read the first transaction and ensure that there are data to process\n",
    "    if (std::cin >> total) {\n",
    "        Sales_item trans; // variable to hold the running sum\n",
    "        // read and process the remaining transactions\n",
    "    while (std::cin >> trans) {\n",
    "        // if we’re still processing the same book\n",
    "        if (total.isbn() == trans.isbn())\n",
    "            total += trans; // update the running total\n",
    "        else {\n",
    "            // print results for the previous book\n",
    "            std::cout << total << std::endl;\n",
    "            total = trans; // total now refers to the next book\n",
    "        }\n",
    "        }\n",
    "        std::cout << total << std::endl; // print the last transaction\n",
    "    } else {\n",
    "        // no input! warn the user\n",
    "        std::cerr << \"No data?!\" << std::endl;\n",
    "        return -1; // indicate failure\n",
    "    }\n",
    "    return 0;\n",
    "}"
   ]
  },
  {
   "cell_type": "markdown",
   "id": "e7ad8fcb",
   "metadata": {},
   "source": [
    "## Exercise 25"
   ]
  },
  {
   "attachments": {
    "image.png": {
     "image/png": "[encoded data removed]"
    }
   },
   "cell_type": "markdown",
   "id": "c91e8c41",
   "metadata": {},
   "source": [
    "![image.png](attachment:image.png)"
   ]
  },
  {
   "cell_type": "code",
   "execution_count": 24,
   "id": "7a4535a0",
   "metadata": {},
   "outputs": [
    {
     "name": "stdout",
     "output_type": "stream",
     "text": [
      "0-201-78345-X 3 20.00 0-201-78345-X 2 20.00 0-211-78345-X 4 30.00 0-211-78345-X 1 25.00 0-221-78345-X 3 20.00 0-221-78345-X 2 20.00 0-231-78345-X 4 30.00 0-231-78345-X 1 25.00 ; ;\n",
      "0-201-78345-X 5 100 20\n",
      "0-211-78345-X 5 145 29\n",
      "0-221-78345-X 5 100 20\n",
      "0-231-78345-X 5 145 29\n"
     ]
    },
    {
     "data": {
      "text/plain": [
       "0"
      ]
     },
     "execution_count": 24,
     "metadata": {},
     "output_type": "execute_result"
    }
   ],
   "source": [
    "main()"
   ]
  },
  {
   "cell_type": "code",
   "execution_count": null,
   "id": "57c91c3e",
   "metadata": {},
   "outputs": [],
   "source": []
  }
 ],
 "metadata": {
  "kernelspec": {
   "display_name": "C++11",
   "language": "C++11",
   "name": "xcpp11"
  },
  "language_info": {
   "codemirror_mode": "text/x-c++src",
   "file_extension": ".cpp",
   "mimetype": "text/x-c++src",
   "name": "c++",
   "version": "11"
  }
 },
 "nbformat": 4,
 "nbformat_minor": 5
}
