{
 "cells": [
  {
   "cell_type": "markdown",
   "id": "b6cd8d7d",
   "metadata": {},
   "source": [
    "# Chapter 1 - A Tutorial Introduction"
   ]
  },
  {
   "cell_type": "markdown",
   "id": "5bf68c16",
   "metadata": {},
   "source": [
    "## Getting Started"
   ]
  },
  {
   "cell_type": "code",
   "execution_count": 19,
   "id": "e2db6ec0",
   "metadata": {
    "ExecuteTime": {
     "end_time": "2021-09-01T09:29:40.254995Z",
     "start_time": "2021-09-01T09:29:40.107318Z"
    }
   },
   "outputs": [
    {
     "name": "stdout",
     "output_type": "stream",
     "text": [
      "hello, world\n"
     ]
    }
   ],
   "source": [
    "#include <stdio.h>\n",
    "int main()\n",
    "{\n",
    "    printf(\"hello, world\\n\");\n",
    "}"
   ]
  },
  {
   "cell_type": "code",
   "execution_count": 14,
   "id": "cc81263a",
   "metadata": {
    "ExecuteTime": {
     "end_time": "2021-09-01T08:59:33.581321Z",
     "start_time": "2021-09-01T08:59:33.384650Z"
    }
   },
   "outputs": [
    {
     "name": "stdout",
     "output_type": "stream",
     "text": [
      "hello, world\n"
     ]
    }
   ],
   "source": [
    "#include <stdio.h>\n",
    "int main()\n",
    "{\n",
    "printf(\"hello, \");\n",
    "printf(\"world\");\n",
    "printf(\"\\n\");\n",
    "}"
   ]
  },
  {
   "cell_type": "markdown",
   "id": "e8c819a5",
   "metadata": {},
   "source": [
    "## Variables and Arithmetic Expressions"
   ]
  },
  {
   "cell_type": "code",
   "execution_count": 16,
   "id": "14e42357",
   "metadata": {
    "ExecuteTime": {
     "end_time": "2021-09-01T09:23:22.321009Z",
     "start_time": "2021-09-01T09:23:22.224893Z"
    }
   },
   "outputs": [
    {
     "name": "stdout",
     "output_type": "stream",
     "text": [
      "0\t-17\n",
      "20\t-6\n",
      "40\t4\n",
      "60\t15\n",
      "80\t26\n",
      "100\t37\n",
      "120\t48\n",
      "140\t60\n",
      "160\t71\n",
      "180\t82\n",
      "200\t93\n",
      "220\t104\n",
      "240\t115\n",
      "260\t126\n",
      "280\t137\n",
      "300\t148\n"
     ]
    }
   ],
   "source": [
    "//Degree temperatures to Fahrenheit\n",
    "\n",
    "#include <stdio.h>\n",
    "/* print Fahrenheit-Celsius table\n",
    "for fahr = 0, 20, ..., 300 */\n",
    "int main()\n",
    "{\n",
    "    int fahr, celsius;\n",
    "    int lower, upper, step;\n",
    "    lower = 0;      /* lower limit of temperature scale */\n",
    "    upper = 300;    /* upper limit */\n",
    "    step = 20;      /* step size */    \n",
    "    fahr = lower;   \n",
    "    while (fahr <= upper) {\n",
    "        celsius = 5 * (fahr-32) / 9;\n",
    "        printf(\"%d\\t%d\\n\", fahr, celsius);\n",
    "        fahr = fahr + step;\n",
    "    }\n",
    "}"
   ]
  },
  {
   "cell_type": "code",
   "execution_count": 2,
   "id": "29c07f71",
   "metadata": {
    "ExecuteTime": {
     "end_time": "2021-09-08T21:10:55.416177Z",
     "start_time": "2021-09-08T21:10:55.147761Z"
    },
    "scrolled": true
   },
   "outputs": [
    {
     "name": "stdout",
     "output_type": "stream",
     "text": [
      "  0  -17.8\n",
      " 20   -6.7\n",
      " 40    4.4\n",
      " 60   15.6\n",
      " 80   26.7\n",
      "100   37.8\n",
      "120   48.9\n",
      "140   60.0\n",
      "160   71.1\n",
      "180   82.2\n",
      "200   93.3\n",
      "220  104.4\n",
      "240  115.6\n",
      "260  126.7\n",
      "280  137.8\n",
      "300  148.9\n"
     ]
    }
   ],
   "source": [
    "#include <stdio.h>\n",
    "/* print Fahrenheit-Celsius table\n",
    "for fahr = 0, 20, ..., 300; floating-point version */\n",
    "int main()\n",
    "{\n",
    "    float fahr, celsius;\n",
    "    float lower, upper, step;\n",
    "    lower = 0;\n",
    "    upper = 300;\n",
    "    step = 20;\n",
    "    /* lower limit of temperatuire scale */\n",
    "    /* upper limit */\n",
    "    /* step size */\n",
    "    fahr = lower;\n",
    "    while (fahr <= upper) {\n",
    "        celsius = (5.0/9.0) * (fahr-32.0);\n",
    "        printf(\"%3.0f %6.1f\\n\", fahr, celsius);\n",
    "        fahr = fahr + step;\n",
    "    }\n",
    "}"
   ]
  },
  {
   "cell_type": "markdown",
   "id": "654dcd04",
   "metadata": {},
   "source": [
    "## The for statement"
   ]
  },
  {
   "cell_type": "code",
   "execution_count": 3,
   "id": "2a9acb1b",
   "metadata": {
    "ExecuteTime": {
     "end_time": "2021-09-08T21:28:03.604905Z",
     "start_time": "2021-09-08T21:28:03.489651Z"
    },
    "scrolled": true
   },
   "outputs": [
    {
     "name": "stdout",
     "output_type": "stream",
     "text": [
      "  0  -17.8\n",
      " 20   -6.7\n",
      " 40    4.4\n",
      " 60   15.6\n",
      " 80   26.7\n",
      "100   37.8\n",
      "120   48.9\n",
      "140   60.0\n",
      "160   71.1\n",
      "180   82.2\n",
      "200   93.3\n",
      "220  104.4\n",
      "240  115.6\n",
      "260  126.7\n",
      "280  137.8\n",
      "300  148.9\n"
     ]
    }
   ],
   "source": [
    "#include <stdio.h>\n",
    "/* print Fahrenheit-Celsius table */\n",
    "int main()\n",
    "{\n",
    "    int fahr;\n",
    "    for (fahr = 0; fahr <= 300; fahr = fahr + 20)\n",
    "        printf(\"%3d %6.1f\\n\", fahr, (5.0/9.0)*(fahr-32));\n",
    "}"
   ]
  },
  {
   "cell_type": "markdown",
   "id": "4fea4cdf",
   "metadata": {},
   "source": [
    "## Symbolic Constants"
   ]
  },
  {
   "cell_type": "code",
   "execution_count": 5,
   "id": "62b9ca73",
   "metadata": {
    "ExecuteTime": {
     "end_time": "2021-09-08T21:40:17.072447Z",
     "start_time": "2021-09-08T21:40:16.964705Z"
    }
   },
   "outputs": [
    {
     "name": "stdout",
     "output_type": "stream",
     "text": [
      "  0  -17.8\n",
      " 20   -6.7\n",
      " 40    4.4\n",
      " 60   15.6\n",
      " 80   26.7\n",
      "100   37.8\n",
      "120   48.9\n",
      "140   60.0\n",
      "160   71.1\n",
      "180   82.2\n",
      "200   93.3\n",
      "220  104.4\n",
      "240  115.6\n",
      "260  126.7\n",
      "280  137.8\n",
      "300  148.9\n"
     ]
    }
   ],
   "source": [
    "#include <stdio.h>\n",
    "#define LOWER 0\n",
    "#define UPPER 300\n",
    "#define STEP 20\n",
    "/* lower limit of table */\n",
    "/* upper limit */\n",
    "/* step size */\n",
    "/* print Fahrenheit-Celsius table */\n",
    "int main()\n",
    "{\n",
    "    int fahr;\n",
    "    for (fahr = LOWER; fahr <= UPPER; fahr = fahr + STEP)\n",
    "        printf(\"%3d %6.1f\\n\", fahr, (5.0/9.0)*(fahr-32));\n",
    "}"
   ]
  },
  {
   "cell_type": "markdown",
   "id": "0ae376e0",
   "metadata": {},
   "source": [
    "## Character Input and Output"
   ]
  },
  {
   "cell_type": "markdown",
   "id": "e1ae414e",
   "metadata": {},
   "source": [
    "### File Copying"
   ]
  },
  {
   "cell_type": "code",
   "execution_count": null,
   "id": "dfc8094c",
   "metadata": {
    "ExecuteTime": {
     "start_time": "2021-09-08T21:55:01.310Z"
    }
   },
   "outputs": [
    {
     "name": "stdout",
     "output_type": "stream",
     "text": [
      "C\n",
      "C\n",
      "a\n",
      "a\n",
      "p\n",
      "p\n",
      "i\n",
      "i\n",
      "t\n",
      "t\n",
      "a\n",
      "a\n",
      "i\n",
      "i\n",
      "n\n",
      "n\n",
      "D\n",
      "D\n",
      "a\n",
      "a\n",
      "t\n",
      "t\n",
      "a\n",
      "a\n",
      "EOF\n"
     ]
    }
   ],
   "source": [
    "#include <stdio.h>\n",
    "/* copy input to output; 1st version \n",
    "\n",
    "read a character\n",
    "while (charater is not end-of-file indicator)\n",
    "output the character just read\n",
    "read a character\n",
    "\n",
    "*/\n",
    "int main()\n",
    "{\n",
    "    int c;\n",
    "    c = getchar();\n",
    "    while (c != EOF) {\n",
    "        putchar(c);\n",
    "        c = getchar();\n",
    "    }\n",
    "}"
   ]
  },
  {
   "cell_type": "code",
   "execution_count": null,
   "id": "58696960",
   "metadata": {
    "ExecuteTime": {
     "start_time": "2021-09-08T21:56:43.471Z"
    }
   },
   "outputs": [
    {
     "name": "stdout",
     "output_type": "stream",
     "text": [
      "l\n",
      "l\n",
      "i\n",
      "i\n",
      "k\n",
      "k\n",
      "e\n",
      "e\n",
      "s\n",
      "s\n",
      "EOF\n"
     ]
    }
   ],
   "source": [
    "#include <stdio.h>\n",
    "/* copy input to output; 2nd version*/\n",
    "int main()\n",
    "{\n",
    "    int c;\n",
    "    while ((c = getchar()) != EOF)\n",
    "        putchar(c);\n",
    "}"
   ]
  },
  {
   "cell_type": "markdown",
   "id": "681ec92e",
   "metadata": {},
   "source": [
    "### Character Counting"
   ]
  },
  {
   "cell_type": "code",
   "execution_count": null,
   "id": "c18802c3",
   "metadata": {
    "ExecuteTime": {
     "start_time": "2021-09-08T22:21:37.515Z"
    }
   },
   "outputs": [
    {
     "name": "stdout",
     "output_type": "stream",
     "text": [
      "^D\n",
      "0x4\n",
      "\\04\n",
      "\n",
      "\n",
      "\n",
      "\n"
     ]
    }
   ],
   "source": [
    "#include <stdio.h>\n",
    "/* count characters in input; 1st version */\n",
    "int main()\n",
    "{\n",
    "    long nc;\n",
    "    nc = 0;\n",
    "    while (getchar() != EOF)\n",
    "        ++nc;\n",
    "        printf(\"%ld\\n\", nc);\n",
    "}"
   ]
  },
  {
   "cell_type": "code",
   "execution_count": null,
   "id": "71fb931f",
   "metadata": {},
   "outputs": [],
   "source": []
  }
 ],
 "metadata": {
  "hide_input": false,
  "kernelspec": {
   "display_name": "C",
   "language": "c",
   "name": "c"
  },
  "language_info": {
   "file_extension": ".c",
   "mimetype": "text/x-csrc",
   "name": "text/x-csrc"
  },
  "latex_envs": {
   "LaTeX_envs_menu_present": true,
   "autoclose": false,
   "autocomplete": true,
   "bibliofile": "biblio.bib",
   "cite_by": "apalike",
   "current_citInitial": 1,
   "eqLabelWithNumbers": true,
   "eqNumInitial": 1,
   "hotkeys": {
    "equation": "Ctrl-E",
    "itemize": "Ctrl-I"
   },
   "labels_anchors": false,
   "latex_user_defs": false,
   "report_style_numbering": false,
   "user_envs_cfg": false
  },
  "nbTranslate": {
   "displayLangs": [
    "*"
   ],
   "hotkey": "alt-t",
   "langInMainMenu": true,
   "sourceLang": "en",
   "targetLang": "fr",
   "useGoogleTranslate": true
  },
  "toc": {
   "base_numbering": 1,
   "nav_menu": {},
   "number_sections": true,
   "sideBar": true,
   "skip_h1_title": false,
   "title_cell": "Table of Contents",
   "title_sidebar": "Contents",
   "toc_cell": false,
   "toc_position": {},
   "toc_section_display": true,
   "toc_window_display": false
  },
  "varInspector": {
   "cols": {
    "lenName": 16,
    "lenType": 16,
    "lenVar": 40
   },
   "kernels_config": {
    "python": {
     "delete_cmd_postfix": "",
     "delete_cmd_prefix": "del ",
     "library": "var_list.py",
     "varRefreshCmd": "print(var_dic_list())"
    },
    "r": {
     "delete_cmd_postfix": ") ",
     "delete_cmd_prefix": "rm(",
     "library": "var_list.r",
     "varRefreshCmd": "cat(var_dic_list()) "
    }
   },
   "types_to_exclude": [
    "module",
    "function",
    "builtin_function_or_method",
    "instance",
    "_Feature"
   ],
   "window_display": false
  }
 },
 "nbformat": 4,
 "nbformat_minor": 5
}
