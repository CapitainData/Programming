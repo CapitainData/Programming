{
 "cells": [
  {
   "cell_type": "markdown",
   "id": "b6cd8d7d",
   "metadata": {},
   "source": [
    "# Chapter 1 - A Tutorial Introduction"
   ]
  },
  {
   "cell_type": "markdown",
   "id": "5bf68c16",
   "metadata": {},
   "source": [
    "## Getting Started"
   ]
  },
  {
   "cell_type": "markdown",
   "id": "6e642387",
   "metadata": {},
   "source": [
    "**Exercise1_1**"
   ]
  },
  {
   "cell_type": "code",
   "execution_count": 1,
   "id": "a9877041",
   "metadata": {
    "ExecuteTime": {
     "end_time": "2021-09-01T09:01:10.078556Z",
     "start_time": "2021-09-01T09:01:10.027948Z"
    }
   },
   "outputs": [
    {
     "name": "stderr",
     "output_type": "stream",
     "text": [
      "/tmp/tmpiu7fghsx.c: In function ‘main’:\n",
      "/tmp/tmpiu7fghsx.c:5:7: error: expected ‘;’ before ‘{’ token\n",
      "    5 | main()\n",
      "      |       ^\n",
      "      |       ;\n",
      "    6 | {\n",
      "      | ~      \n",
      "[C kernel] GCC exited with code 1, the executable will not be executed"
     ]
    }
   ],
   "source": [
    "#include <stdio.h>\n",
    "main()\n",
    "{\n",
    "    printf(\"hello, world\\n\");\n",
    "}"
   ]
  },
  {
   "cell_type": "markdown",
   "id": "9da584f5",
   "metadata": {},
   "source": [
    "**Exercise1_2**"
   ]
  },
  {
   "cell_type": "code",
   "execution_count": 2,
   "id": "08a69e9f",
   "metadata": {
    "ExecuteTime": {
     "end_time": "2021-09-01T09:01:54.895926Z",
     "start_time": "2021-09-01T09:01:54.760348Z"
    }
   },
   "outputs": [
    {
     "name": "stderr",
     "output_type": "stream",
     "text": [
      "/tmp/tmpvurc447s.c: In function ‘main’:\n",
      "/tmp/tmpvurc447s.c:4:16: warning: unknown escape sequence: '\\c'\n",
      "    4 |     printf(\"\\c\");\n",
      "      |                ^\n"
     ]
    },
    {
     "name": "stdout",
     "output_type": "stream",
     "text": [
      "c"
     ]
    }
   ],
   "source": [
    "#include <stdio.h>\n",
    "int main()\n",
    "{\n",
    "    printf(\"\\c\");\n",
    "}"
   ]
  },
  {
   "cell_type": "markdown",
   "id": "9919359c",
   "metadata": {},
   "source": [
    "## Variables and Arithmetic Expressions"
   ]
  },
  {
   "cell_type": "markdown",
   "id": "efe7fd76",
   "metadata": {},
   "source": [
    "**Exercise 1_3**"
   ]
  },
  {
   "attachments": {},
   "cell_type": "markdown",
   "id": "8ea6c68d",
   "metadata": {},
   "source": [
    "**Exercise 1-3.** Modify the temperature conversion program to print a heading above the table."
   ]
  },
  {
   "cell_type": "code",
   "execution_count": 4,
   "id": "f0c6f9b0",
   "metadata": {
    "ExecuteTime": {
     "end_time": "2021-09-08T21:17:06.856399Z",
     "start_time": "2021-09-08T21:17:06.768020Z"
    }
   },
   "outputs": [
    {
     "name": "stdout",
     "output_type": "stream",
     "text": [
      "Fahrenheit-Celsius table for fahr = 0, 20, ..., 300; floating-point version\n",
      " \n",
      "  0  -17.8\n",
      " 20   -6.7\n",
      " 40    4.4\n",
      " 60   15.6\n",
      " 80   26.7\n",
      "100   37.8\n",
      "120   48.9\n",
      "140   60.0\n",
      "160   71.1\n",
      "180   82.2\n",
      "200   93.3\n",
      "220  104.4\n",
      "240  115.6\n",
      "260  126.7\n",
      "280  137.8\n",
      "300  148.9\n"
     ]
    }
   ],
   "source": [
    "#include <stdio.h>\n",
    "/* print Fahrenheit-Celsius table\n",
    "for fahr = 0, 20, ..., 300; floating-point version */\n",
    "int main()\n",
    "{\n",
    "    float fahr, celsius;\n",
    "    float lower, upper, step;\n",
    "    lower = 0;\n",
    "    upper = 300;\n",
    "    step = 20;\n",
    "    /* lower limit of temperatuire scale */\n",
    "    /* upper limit */\n",
    "    /* step size */\n",
    "    fahr = lower;\n",
    "    printf(\"Fahrenheit-Celsius table for fahr = 0, 20, ..., 300; floating-point version\\n \\n\");\n",
    "    while (fahr <= upper) {\n",
    "        celsius = (5.0/9.0) * (fahr-32.0);\n",
    "        printf(\"%3.0f %6.1f\\n\", fahr, celsius);\n",
    "        fahr = fahr + step;\n",
    "    }\n",
    "}"
   ]
  },
  {
   "cell_type": "markdown",
   "id": "7c2f39f9",
   "metadata": {},
   "source": [
    "**Exercise 1_4**"
   ]
  },
  {
   "cell_type": "markdown",
   "id": "d944c35a",
   "metadata": {},
   "source": [
    "**Exercise 1-4.** Write a program to print the corresponding Celsius to Fahrenheit table."
   ]
  },
  {
   "cell_type": "code",
   "execution_count": 6,
   "id": "df171464",
   "metadata": {
    "ExecuteTime": {
     "end_time": "2021-09-08T21:24:53.675656Z",
     "start_time": "2021-09-08T21:24:53.589305Z"
    }
   },
   "outputs": [
    {
     "name": "stdout",
     "output_type": "stream",
     "text": [
      "print Celsius-Fahrenheit table for celsius = 0, 20, ..., 300; floating-point version\n",
      " \n",
      "  0     32\n",
      " 20     68\n",
      " 40    104\n",
      " 60    140\n",
      " 80    176\n",
      "100    212\n",
      "120    248\n",
      "140    284\n",
      "160    320\n",
      "180    356\n",
      "200    392\n",
      "220    428\n",
      "240    464\n",
      "260    500\n",
      "280    536\n",
      "300    572\n"
     ]
    }
   ],
   "source": [
    "#include <stdio.h>\n",
    "/* print Celsius-Fahrenheit table\n",
    "for celsius = 0, 20, ..., 300; floating-point version */\n",
    "int main()\n",
    "{\n",
    "    float fahr, celsius;\n",
    "    float lower, upper, step;\n",
    "    lower = 0;\n",
    "    upper = 300;\n",
    "    step = 20;\n",
    "    /* lower limit of temperatuire scale */\n",
    "    /* upper limit */\n",
    "    /* step size */\n",
    "    celsius = lower;\n",
    "    printf(\"print Celsius-Fahrenheit table for celsius = 0, 20, ..., 300; floating-point version\\n \\n\");\n",
    "    while (celsius <= upper) {\n",
    "        fahr = (9.0/5.0) * (celsius)+32.0;\n",
    "        printf(\"%3.0f %6.0f\\n\", celsius, fahr);\n",
    "        celsius = celsius + step;\n",
    "    }\n",
    "}"
   ]
  },
  {
   "cell_type": "markdown",
   "id": "8fdf195f",
   "metadata": {},
   "source": [
    "## The for statement"
   ]
  },
  {
   "cell_type": "markdown",
   "id": "992a03db",
   "metadata": {},
   "source": [
    "**Exercise 1_5**"
   ]
  },
  {
   "cell_type": "markdown",
   "id": "728a47e8",
   "metadata": {},
   "source": [
    "**Exercise 1-5.** Modify the temperature conversion program to print the table in reverse order,\n",
    "that is, from 300 degrees to 0."
   ]
  },
  {
   "cell_type": "code",
   "execution_count": 1,
   "id": "f805589d",
   "metadata": {
    "ExecuteTime": {
     "end_time": "2021-09-08T21:32:40.783358Z",
     "start_time": "2021-09-08T21:32:40.505114Z"
    },
    "scrolled": true
   },
   "outputs": [
    {
     "name": "stdout",
     "output_type": "stream",
     "text": [
      "300  148.9\n",
      "280  137.8\n",
      "260  126.7\n",
      "240  115.6\n",
      "220  104.4\n",
      "200   93.3\n",
      "180   82.2\n",
      "160   71.1\n",
      "140   60.0\n",
      "120   48.9\n",
      "100   37.8\n",
      " 80   26.7\n",
      " 60   15.6\n",
      " 40    4.4\n",
      " 20   -6.7\n",
      "  0  -17.8\n"
     ]
    }
   ],
   "source": [
    "#include <stdio.h>\n",
    "/* print Fahrenheit-Celsius table */\n",
    "int main()\n",
    "{\n",
    "    int fahr;\n",
    "    for (fahr = 300; fahr >= 0; fahr = fahr - 20)\n",
    "        printf(\"%3d %6.1f\\n\", fahr, (5.0/9.0)*(fahr-32));\n",
    "}"
   ]
  },
  {
   "cell_type": "markdown",
   "id": "d591a4ef",
   "metadata": {},
   "source": [
    "## Symbolic Constants"
   ]
  },
  {
   "cell_type": "markdown",
   "id": "6ffd5038",
   "metadata": {},
   "source": [
    "*No Exercises*"
   ]
  },
  {
   "cell_type": "markdown",
   "id": "b8f38fa4",
   "metadata": {},
   "source": [
    "## Character Input and Output"
   ]
  },
  {
   "cell_type": "markdown",
   "id": "c639f757",
   "metadata": {},
   "source": [
    "### File Copying"
   ]
  },
  {
   "cell_type": "markdown",
   "id": "7cceb6b7",
   "metadata": {},
   "source": [
    "**Exercise 1_6**"
   ]
  },
  {
   "cell_type": "markdown",
   "id": "0709cdca",
   "metadata": {},
   "source": [
    "**Exercsise 1-6.** Verify that the expression\n",
    "getchar() != EOF\n",
    "is 0 or 1."
   ]
  },
  {
   "cell_type": "code",
   "execution_count": 8,
   "id": "5e6e1e4c",
   "metadata": {
    "ExecuteTime": {
     "end_time": "2021-09-08T22:03:54.458892Z",
     "start_time": "2021-09-08T22:03:52.101246Z"
    }
   },
   "outputs": [
    {
     "name": "stdout",
     "output_type": "stream",
     "text": [
      "s\n",
      "1"
     ]
    }
   ],
   "source": [
    "#include <stdio.h>\n",
    "\n",
    "int main(){\n",
    "    \n",
    "    int c;\n",
    "    \n",
    "    c = getchar();\n",
    "        \n",
    "    printf(\"%d\", (c != EOF));\n",
    "    \n",
    "    return 0;\n",
    "}"
   ]
  },
  {
   "cell_type": "markdown",
   "id": "4a3f446f",
   "metadata": {},
   "source": [
    "**Exercise 1_7**"
   ]
  },
  {
   "cell_type": "markdown",
   "id": "01152b34",
   "metadata": {},
   "source": [
    "**Exercise 1-7.** Write a program to print the value of EOF ."
   ]
  },
  {
   "cell_type": "code",
   "execution_count": 9,
   "id": "2c5c4176",
   "metadata": {
    "ExecuteTime": {
     "end_time": "2021-09-08T22:05:11.616922Z",
     "start_time": "2021-09-08T22:05:11.510012Z"
    }
   },
   "outputs": [
    {
     "name": "stdout",
     "output_type": "stream",
     "text": [
      "-1"
     ]
    }
   ],
   "source": [
    "#include <stdio.h>\n",
    "\n",
    "int main(){\n",
    "        \n",
    "    printf(\"%d\", EOF);\n",
    "    \n",
    "    return 0;\n",
    "}"
   ]
  },
  {
   "cell_type": "markdown",
   "id": "83c291c7",
   "metadata": {},
   "source": [
    "### Character Counting"
   ]
  },
  {
   "cell_type": "code",
   "execution_count": null,
   "id": "1e962d80",
   "metadata": {},
   "outputs": [],
   "source": []
  }
 ],
 "metadata": {
  "hide_input": false,
  "kernelspec": {
   "display_name": "C",
   "language": "c",
   "name": "c"
  },
  "language_info": {
   "file_extension": ".c",
   "mimetype": "text/x-csrc",
   "name": "text/x-csrc"
  },
  "latex_envs": {
   "LaTeX_envs_menu_present": true,
   "autoclose": false,
   "autocomplete": true,
   "bibliofile": "biblio.bib",
   "cite_by": "apalike",
   "current_citInitial": 1,
   "eqLabelWithNumbers": true,
   "eqNumInitial": 1,
   "hotkeys": {
    "equation": "Ctrl-E",
    "itemize": "Ctrl-I"
   },
   "labels_anchors": false,
   "latex_user_defs": false,
   "report_style_numbering": false,
   "user_envs_cfg": false
  },
  "nbTranslate": {
   "displayLangs": [
    "*"
   ],
   "hotkey": "alt-t",
   "langInMainMenu": true,
   "sourceLang": "en",
   "targetLang": "fr",
   "useGoogleTranslate": true
  },
  "toc": {
   "base_numbering": 1,
   "nav_menu": {},
   "number_sections": true,
   "sideBar": true,
   "skip_h1_title": false,
   "title_cell": "Table of Contents",
   "title_sidebar": "Contents",
   "toc_cell": false,
   "toc_position": {},
   "toc_section_display": true,
   "toc_window_display": false
  },
  "varInspector": {
   "cols": {
    "lenName": 16,
    "lenType": 16,
    "lenVar": 40
   },
   "kernels_config": {
    "python": {
     "delete_cmd_postfix": "",
     "delete_cmd_prefix": "del ",
     "library": "var_list.py",
     "varRefreshCmd": "print(var_dic_list())"
    },
    "r": {
     "delete_cmd_postfix": ") ",
     "delete_cmd_prefix": "rm(",
     "library": "var_list.r",
     "varRefreshCmd": "cat(var_dic_list()) "
    }
   },
   "types_to_exclude": [
    "module",
    "function",
    "builtin_function_or_method",
    "instance",
    "_Feature"
   ],
   "window_display": false
  }
 },
 "nbformat": 4,
 "nbformat_minor": 5
}
